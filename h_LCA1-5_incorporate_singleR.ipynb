{
 "cells": [
  {
   "cell_type": "code",
   "execution_count": 1,
   "id": "a957fb50",
   "metadata": {},
   "outputs": [],
   "source": [
    "import numpy as np\n",
    "import pandas as pd\n",
    "import scanpy as sc\n",
    "import anndata as ad\n",
    "import scanpy.external as sce"
   ]
  },
  {
   "cell_type": "code",
   "execution_count": 2,
   "id": "9e9b6704",
   "metadata": {},
   "outputs": [],
   "source": [
    "raw_file = 'write_LCA/h_LCA1-5_raw.h5ad'\n",
    "qc_file = 'write_LCA/h_LCA1-5_qc.h5ad'\n",
    "filtered_file = 'write_LCA/h_LCA1-5_filtered.h5ad'\n",
    "pp_file = 'write_LCA/h_LCA1-5_pp.h5ad'\n",
    "results_file = 'write_LCA/h_LCA1-5.h5ad'  # the file that will store the analysis results"
   ]
  },
  {
   "cell_type": "markdown",
   "id": "5d0a1c9f",
   "metadata": {},
   "source": [
    "# Incoporate singleR results into the filtered anndata"
   ]
  },
  {
   "cell_type": "code",
   "execution_count": 3,
   "id": "f45bf166",
   "metadata": {},
   "outputs": [
    {
     "data": {
      "text/plain": [
       "AnnData object with n_obs × n_vars = 32686 × 41861\n",
       "    obs: 'Barcode', 'Patient', 'Library', 'Most_likely_LM22_cell_type', 'Major_cell_type', 'Minor_subset', 'n_genes_by_counts', 'total_counts', 'total_counts_mt', 'pct_counts_mt', 'doublet_score', 'predicted_doublet'\n",
       "    var: 'mt', 'n_cells_by_counts', 'mean_counts', 'pct_dropout_by_counts', 'total_counts'"
      ]
     },
     "execution_count": 3,
     "metadata": {},
     "output_type": "execute_result"
    }
   ],
   "source": [
    "adata=sc.read_h5ad(filtered_file)\n",
    "adata"
   ]
  },
  {
   "cell_type": "code",
   "execution_count": 4,
   "id": "d9c0b982",
   "metadata": {},
   "outputs": [],
   "source": [
    "label_dict_h_LCA = np.load('write_LCA/label_dict_h_LCA.npy',allow_pickle=True).item()"
   ]
  },
  {
   "cell_type": "code",
   "execution_count": 5,
   "id": "f87cf946",
   "metadata": {},
   "outputs": [],
   "source": [
    "new_key_list=[]\n",
    "label_list=[]\n",
    "for key in label_dict_h_LCA:\n",
    "    new_key_list.append(key.split('-')[1]+'-'+key.split('-')[2])\n",
    "    label_list.append(label_dict_h_LCA[key])\n",
    "label_dict_h_LCA_n = dict(zip(new_key_list,label_list))"
   ]
  },
  {
   "cell_type": "code",
   "execution_count": 6,
   "id": "3daeecca",
   "metadata": {},
   "outputs": [],
   "source": [
    "label_singleR_list = []\n",
    "for i in range(0,len(adata.obs.Barcode)):\n",
    "    try:\n",
    "        label_singleR = label_dict_h_LCA_n[adata.obs.Library[i]+'-'+adata.obs.Barcode[i]]\n",
    "        label_singleR_list.append(label_singleR)\n",
    "    except:\n",
    "        label_singleR_list.append('null')"
   ]
  },
  {
   "cell_type": "code",
   "execution_count": 7,
   "id": "ce36c431",
   "metadata": {},
   "outputs": [],
   "source": [
    "adata.obs['label_singleR']=label_singleR_list"
   ]
  },
  {
   "cell_type": "code",
   "execution_count": 8,
   "id": "ea8edf91",
   "metadata": {},
   "outputs": [
    {
     "data": {
      "text/plain": [
       "p3t1-bcHNMG         Macrophages\n",
       "p3t1-bcGUOS             B-cells\n",
       "p3t1-bcBAMM    Epithelial cells\n",
       "p3t1-bcATNB             B-cells\n",
       "p3t1-bcAEDB    Epithelial cells\n",
       "                     ...       \n",
       "p7t2-bcAOUZ         Neutrophils\n",
       "p7t2-bcBHQQ         Macrophages\n",
       "p7t2-bcCXIB           Monocytes\n",
       "p7t2-bcCXBJ            NK cells\n",
       "p7t2-bcFFQN         Neutrophils\n",
       "Name: label_singleR, Length: 32686, dtype: object"
      ]
     },
     "execution_count": 8,
     "metadata": {},
     "output_type": "execute_result"
    }
   ],
   "source": [
    "adata.obs.label_singleR"
   ]
  },
  {
   "cell_type": "code",
   "execution_count": 9,
   "id": "6eb44c31",
   "metadata": {},
   "outputs": [
    {
     "name": "stderr",
     "output_type": "stream",
     "text": [
      "/home/teach2_pkuhpc/gpfs1/xuzk/Anaconda/envs/py_3.8/lib/python3.8/site-packages/anndata/_core/anndata.py:1228: FutureWarning: The `inplace` parameter in pandas.Categorical.reorder_categories is deprecated and will be removed in a future version. Reordering categories will always return a new Categorical object.\n",
      "  c.reorder_categories(natsorted(c.categories), inplace=True)\n",
      "... storing 'predicted_doublet' as categorical\n",
      "/home/teach2_pkuhpc/gpfs1/xuzk/Anaconda/envs/py_3.8/lib/python3.8/site-packages/anndata/_core/anndata.py:1228: FutureWarning: The `inplace` parameter in pandas.Categorical.reorder_categories is deprecated and will be removed in a future version. Reordering categories will always return a new Categorical object.\n",
      "  c.reorder_categories(natsorted(c.categories), inplace=True)\n",
      "... storing 'label_singleR' as categorical\n"
     ]
    }
   ],
   "source": [
    "adata.write(filtered_file)"
   ]
  }
 ],
 "metadata": {
  "kernelspec": {
   "display_name": "scanpy",
   "language": "python",
   "name": "py_3.8"
  },
  "language_info": {
   "codemirror_mode": {
    "name": "ipython",
    "version": 3
   },
   "file_extension": ".py",
   "mimetype": "text/x-python",
   "name": "python",
   "nbconvert_exporter": "python",
   "pygments_lexer": "ipython3",
   "version": "3.8.13"
  }
 },
 "nbformat": 4,
 "nbformat_minor": 5
}
