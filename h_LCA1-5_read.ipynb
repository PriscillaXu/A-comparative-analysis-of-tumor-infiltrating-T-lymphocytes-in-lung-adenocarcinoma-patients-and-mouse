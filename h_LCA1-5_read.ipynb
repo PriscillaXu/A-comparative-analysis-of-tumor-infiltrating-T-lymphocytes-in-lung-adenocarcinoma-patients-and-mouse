{
 "cells": [
  {
   "cell_type": "code",
   "execution_count": 1,
   "id": "823c9d57",
   "metadata": {},
   "outputs": [],
   "source": [
    "import numpy as np\n",
    "import pandas as pd\n",
    "import scanpy as sc\n",
    "import anndata as ad\n",
    "import scanpy.external as sce"
   ]
  },
  {
   "cell_type": "code",
   "execution_count": 2,
   "id": "09fa3efc",
   "metadata": {},
   "outputs": [
    {
     "name": "stderr",
     "output_type": "stream",
     "text": [
      "/home/teach2_pkuhpc/gpfs1/xuzk/Anaconda/envs/py_3.8/lib/python3.8/site-packages/tqdm/auto.py:22: TqdmWarning: IProgress not found. Please update jupyter and ipywidgets. See https://ipywidgets.readthedocs.io/en/stable/user_install.html\n",
      "  from .autonotebook import tqdm as notebook_tqdm\n"
     ]
    },
    {
     "name": "stdout",
     "output_type": "stream",
     "text": [
      "scanpy==1.8.2 anndata==0.7.8 umap==0.5.3 numpy==1.21.6 scipy==1.8.0 pandas==1.4.2 scikit-learn==1.0.2 statsmodels==0.13.2 python-igraph==0.9.10 pynndescent==0.5.6\n"
     ]
    }
   ],
   "source": [
    "sc.settings.verbosity = 3             # verbosity: errors (0), warnings (1), info (2), hints (3)\n",
    "sc.logging.print_header()\n",
    "sc.settings.set_figure_params(dpi=80, facecolor='white')"
   ]
  },
  {
   "cell_type": "code",
   "execution_count": 3,
   "id": "ac12a230",
   "metadata": {},
   "outputs": [],
   "source": [
    "raw_file = 'write_LCA/h_LCA1-5_raw.h5ad'\n",
    "qc_file = 'write_LCA/h_LCA1-5_qc.h5ad'\n",
    "filtered_file = 'write_LCA/h_LCA1-5_filtered.h5ad'\n",
    "pp_file = 'write_LCA/h_LCA1-5_pp.h5ad'\n",
    "results_file = 'write_LCA/h_LCA1-5.h5ad'  # the file that will store the analysis results"
   ]
  },
  {
   "cell_type": "markdown",
   "id": "19286c2b",
   "metadata": {},
   "source": [
    "# Import the count matrix and metadata"
   ]
  },
  {
   "cell_type": "code",
   "execution_count": 4,
   "id": "787b58bb",
   "metadata": {},
   "outputs": [
    {
     "name": "stdout",
     "output_type": "stream",
     "text": [
      "... reading from cache file cache/..-..-data_LCA-pat_LCA-GSM3635288_human_p3t1_raw_counts.h5ad\n"
     ]
    },
    {
     "name": "stderr",
     "output_type": "stream",
     "text": [
      "/tmp/ipykernel_32057/4060065208.py:17: UserWarning: Boolean Series key will be reindexed to match DataFrame index.\n",
      "  meta = meta[meta['Tissue']=='tumor'][meta['Library']==names[i]]\n"
     ]
    },
    {
     "name": "stdout",
     "output_type": "stream",
     "text": [
      "... reading from cache file cache/..-..-data_LCA-pat_LCA-GSM3635289_human_p3t2_raw_counts.h5ad\n"
     ]
    },
    {
     "name": "stderr",
     "output_type": "stream",
     "text": [
      "/tmp/ipykernel_32057/4060065208.py:17: UserWarning: Boolean Series key will be reindexed to match DataFrame index.\n",
      "  meta = meta[meta['Tissue']=='tumor'][meta['Library']==names[i]]\n"
     ]
    },
    {
     "name": "stdout",
     "output_type": "stream",
     "text": [
      "... reading from cache file cache/..-..-data_LCA-pat_LCA-GSM3635290_human_p3t3_raw_counts.h5ad\n"
     ]
    },
    {
     "name": "stderr",
     "output_type": "stream",
     "text": [
      "/tmp/ipykernel_32057/4060065208.py:17: UserWarning: Boolean Series key will be reindexed to match DataFrame index.\n",
      "  meta = meta[meta['Tissue']=='tumor'][meta['Library']==names[i]]\n"
     ]
    },
    {
     "name": "stdout",
     "output_type": "stream",
     "text": [
      "... reading from cache file cache/..-..-data_LCA-pat_LCA-GSM3635292_human_p4t1_raw_counts.h5ad\n"
     ]
    },
    {
     "name": "stderr",
     "output_type": "stream",
     "text": [
      "/tmp/ipykernel_32057/4060065208.py:17: UserWarning: Boolean Series key will be reindexed to match DataFrame index.\n",
      "  meta = meta[meta['Tissue']=='tumor'][meta['Library']==names[i]]\n"
     ]
    },
    {
     "name": "stdout",
     "output_type": "stream",
     "text": [
      "... reading from cache file cache/..-..-data_LCA-pat_LCA-GSM3635293_human_p4t2_raw_counts.h5ad\n"
     ]
    },
    {
     "name": "stderr",
     "output_type": "stream",
     "text": [
      "/tmp/ipykernel_32057/4060065208.py:17: UserWarning: Boolean Series key will be reindexed to match DataFrame index.\n",
      "  meta = meta[meta['Tissue']=='tumor'][meta['Library']==names[i]]\n"
     ]
    },
    {
     "name": "stdout",
     "output_type": "stream",
     "text": [
      "... reading from cache file cache/..-..-data_LCA-pat_LCA-GSM3635294_human_p4t3_raw_counts.h5ad\n"
     ]
    },
    {
     "name": "stderr",
     "output_type": "stream",
     "text": [
      "/tmp/ipykernel_32057/4060065208.py:17: UserWarning: Boolean Series key will be reindexed to match DataFrame index.\n",
      "  meta = meta[meta['Tissue']=='tumor'][meta['Library']==names[i]]\n"
     ]
    },
    {
     "name": "stdout",
     "output_type": "stream",
     "text": [
      "... reading from cache file cache/..-..-data_LCA-pat_LCA-GSM3635296_human_p5t1_raw_counts.h5ad\n"
     ]
    },
    {
     "name": "stderr",
     "output_type": "stream",
     "text": [
      "/tmp/ipykernel_32057/4060065208.py:17: UserWarning: Boolean Series key will be reindexed to match DataFrame index.\n",
      "  meta = meta[meta['Tissue']=='tumor'][meta['Library']==names[i]]\n"
     ]
    },
    {
     "name": "stdout",
     "output_type": "stream",
     "text": [
      "... reading from cache file cache/..-..-data_LCA-pat_LCA-GSM3635297_human_p5t2_raw_counts.h5ad\n"
     ]
    },
    {
     "name": "stderr",
     "output_type": "stream",
     "text": [
      "/tmp/ipykernel_32057/4060065208.py:17: UserWarning: Boolean Series key will be reindexed to match DataFrame index.\n",
      "  meta = meta[meta['Tissue']=='tumor'][meta['Library']==names[i]]\n"
     ]
    },
    {
     "name": "stdout",
     "output_type": "stream",
     "text": [
      "... reading from cache file cache/..-..-data_LCA-pat_LCA-GSM3635298_human_p6t1_raw_counts.h5ad\n"
     ]
    },
    {
     "name": "stderr",
     "output_type": "stream",
     "text": [
      "/tmp/ipykernel_32057/4060065208.py:17: UserWarning: Boolean Series key will be reindexed to match DataFrame index.\n",
      "  meta = meta[meta['Tissue']=='tumor'][meta['Library']==names[i]]\n"
     ]
    },
    {
     "name": "stdout",
     "output_type": "stream",
     "text": [
      "... reading from cache file cache/..-..-data_LCA-pat_LCA-GSM3635299_human_p6t2_raw_counts.h5ad\n"
     ]
    },
    {
     "name": "stderr",
     "output_type": "stream",
     "text": [
      "/tmp/ipykernel_32057/4060065208.py:17: UserWarning: Boolean Series key will be reindexed to match DataFrame index.\n",
      "  meta = meta[meta['Tissue']=='tumor'][meta['Library']==names[i]]\n"
     ]
    },
    {
     "name": "stdout",
     "output_type": "stream",
     "text": [
      "... reading from cache file cache/..-..-data_LCA-pat_LCA-GSM3635301_human_p7t1_raw_counts.h5ad\n"
     ]
    },
    {
     "name": "stderr",
     "output_type": "stream",
     "text": [
      "/tmp/ipykernel_32057/4060065208.py:17: UserWarning: Boolean Series key will be reindexed to match DataFrame index.\n",
      "  meta = meta[meta['Tissue']=='tumor'][meta['Library']==names[i]]\n"
     ]
    },
    {
     "name": "stdout",
     "output_type": "stream",
     "text": [
      "... reading from cache file cache/..-..-data_LCA-pat_LCA-GSM3635302_human_p7t2_raw_counts.h5ad\n"
     ]
    },
    {
     "name": "stderr",
     "output_type": "stream",
     "text": [
      "/tmp/ipykernel_32057/4060065208.py:17: UserWarning: Boolean Series key will be reindexed to match DataFrame index.\n",
      "  meta = meta[meta['Tissue']=='tumor'][meta['Library']==names[i]]\n"
     ]
    }
   ],
   "source": [
    "adatas=[]\n",
    "## import all the tumor libraries (versus blood)\n",
    "names = ['p3t1','p3t2','p3t3','p4t1','p4t2','p4t3','p5t1','p5t2','p6t1','p6t2','p7t1','p7t2']\n",
    "pats = ['p3']*3+['p4']*3+['p5']*2+['p6']*2+['p7']*2\n",
    "index = [0,1,2,4,5,6,8,9,10,11,13,14]\n",
    "for i in range(0,len(names)):\n",
    "    dir='../../data_LCA/pat_LCA/GSM3635'+str(288+index[i])+'_human_'+names[i]+'_raw_counts.tsv'\n",
    "    adata = sc.read(\n",
    "        dir,  # the directory with the `.mtx` file\n",
    "        cache=True,# write a cache file for faster subsequent reading\n",
    "        )  \n",
    "    adata.obs['Barcode']=adata.obs_names\n",
    "    adata.obs['Patient']=pats[i]\n",
    "    adata.obs['Library']=names[i]\n",
    "    ### import metadata cell type annotation\n",
    "    meta = pd.read_csv('../../data_LCA/pat_LCA/GSE127465_human_cell_metadata_54773x25.tsv',sep='\\t')[['Tissue','Patient','Library','Barcode','Most likely LM22 cell type','Major cell type','Minor subset']]\n",
    "    meta = meta[meta['Tissue']=='tumor'][meta['Library']==names[i]]\n",
    "    LM22_dict_h_LCA = dict(zip(list(meta['Barcode']),list(meta['Most likely LM22 cell type']) ))\n",
    "    major_dict_h_LCA = dict(zip(list(meta['Barcode']),list(meta['Major cell type']) ))\n",
    "    sub_dict_h_LCA = dict(zip(list(meta['Barcode']),list(meta['Minor subset']) ))\n",
    "    list_lm22 = []\n",
    "    list_maj = []\n",
    "    list_sub = []\n",
    "    barcodes = list(adata.obs_names)\n",
    "    for barcode in barcodes:\n",
    "        if barcode in list(meta['Barcode']):\n",
    "            list_lm22.append(LM22_dict_h_LCA[barcode])\n",
    "            list_maj.append(major_dict_h_LCA[barcode])\n",
    "            list_sub.append(sub_dict_h_LCA[barcode])\n",
    "        else:\n",
    "            list_lm22.append('null')\n",
    "            list_maj.append('null')\n",
    "            list_sub.append('null')\n",
    "    adata.obs['Most_likely_LM22_cell_type']=list_lm22\n",
    "    adata.obs['Major_cell_type']=list_maj\n",
    "    adata.obs['Minor_subset']=list_sub\n",
    "    # unify barcode name\n",
    "    adata.obs.index=[names[i]+'-'+x for x in adata.obs.index]\n",
    "    #adata\n",
    "    adatas.append(adata)"
   ]
  },
  {
   "cell_type": "code",
   "execution_count": 5,
   "id": "7ad96cf1",
   "metadata": {},
   "outputs": [
    {
     "data": {
      "text/plain": [
       "[AnnData object with n_obs × n_vars = 9534 × 41861\n",
       "     obs: 'Barcode', 'Patient', 'Library', 'Most_likely_LM22_cell_type', 'Major_cell_type', 'Minor_subset',\n",
       " AnnData object with n_obs × n_vars = 9993 × 41861\n",
       "     obs: 'Barcode', 'Patient', 'Library', 'Most_likely_LM22_cell_type', 'Major_cell_type', 'Minor_subset',\n",
       " AnnData object with n_obs × n_vars = 11267 × 41861\n",
       "     obs: 'Barcode', 'Patient', 'Library', 'Most_likely_LM22_cell_type', 'Major_cell_type', 'Minor_subset',\n",
       " AnnData object with n_obs × n_vars = 3388 × 41861\n",
       "     obs: 'Barcode', 'Patient', 'Library', 'Most_likely_LM22_cell_type', 'Major_cell_type', 'Minor_subset',\n",
       " AnnData object with n_obs × n_vars = 4437 × 41861\n",
       "     obs: 'Barcode', 'Patient', 'Library', 'Most_likely_LM22_cell_type', 'Major_cell_type', 'Minor_subset',\n",
       " AnnData object with n_obs × n_vars = 4082 × 41861\n",
       "     obs: 'Barcode', 'Patient', 'Library', 'Most_likely_LM22_cell_type', 'Major_cell_type', 'Minor_subset',\n",
       " AnnData object with n_obs × n_vars = 7943 × 41861\n",
       "     obs: 'Barcode', 'Patient', 'Library', 'Most_likely_LM22_cell_type', 'Major_cell_type', 'Minor_subset',\n",
       " AnnData object with n_obs × n_vars = 6106 × 41861\n",
       "     obs: 'Barcode', 'Patient', 'Library', 'Most_likely_LM22_cell_type', 'Major_cell_type', 'Minor_subset',\n",
       " AnnData object with n_obs × n_vars = 6564 × 41861\n",
       "     obs: 'Barcode', 'Patient', 'Library', 'Most_likely_LM22_cell_type', 'Major_cell_type', 'Minor_subset',\n",
       " AnnData object with n_obs × n_vars = 4736 × 41861\n",
       "     obs: 'Barcode', 'Patient', 'Library', 'Most_likely_LM22_cell_type', 'Major_cell_type', 'Minor_subset',\n",
       " AnnData object with n_obs × n_vars = 8670 × 41861\n",
       "     obs: 'Barcode', 'Patient', 'Library', 'Most_likely_LM22_cell_type', 'Major_cell_type', 'Minor_subset',\n",
       " AnnData object with n_obs × n_vars = 8513 × 41861\n",
       "     obs: 'Barcode', 'Patient', 'Library', 'Most_likely_LM22_cell_type', 'Major_cell_type', 'Minor_subset']"
      ]
     },
     "execution_count": 5,
     "metadata": {},
     "output_type": "execute_result"
    }
   ],
   "source": [
    "adatas"
   ]
  },
  {
   "cell_type": "code",
   "execution_count": 7,
   "id": "a1b14a26",
   "metadata": {},
   "outputs": [],
   "source": [
    "adata = ad.concat(adatas, merge = \"same\")\n"
   ]
  },
  {
   "cell_type": "code",
   "execution_count": 8,
   "id": "7cb5eff9",
   "metadata": {},
   "outputs": [
    {
     "data": {
      "text/html": [
       "<div>\n",
       "<style scoped>\n",
       "    .dataframe tbody tr th:only-of-type {\n",
       "        vertical-align: middle;\n",
       "    }\n",
       "\n",
       "    .dataframe tbody tr th {\n",
       "        vertical-align: top;\n",
       "    }\n",
       "\n",
       "    .dataframe thead th {\n",
       "        text-align: right;\n",
       "    }\n",
       "</style>\n",
       "<table border=\"1\" class=\"dataframe\">\n",
       "  <thead>\n",
       "    <tr style=\"text-align: right;\">\n",
       "      <th></th>\n",
       "      <th>Barcode</th>\n",
       "      <th>Patient</th>\n",
       "      <th>Library</th>\n",
       "      <th>Most_likely_LM22_cell_type</th>\n",
       "      <th>Major_cell_type</th>\n",
       "      <th>Minor_subset</th>\n",
       "    </tr>\n",
       "  </thead>\n",
       "  <tbody>\n",
       "    <tr>\n",
       "      <th>p3t1-bcHNMG</th>\n",
       "      <td>bcHNMG</td>\n",
       "      <td>p3</td>\n",
       "      <td>p3t1</td>\n",
       "      <td>Macrophages M0</td>\n",
       "      <td>tMoMacDC</td>\n",
       "      <td>tMac5</td>\n",
       "    </tr>\n",
       "    <tr>\n",
       "      <th>p3t1-bcGUOS</th>\n",
       "      <td>bcGUOS</td>\n",
       "      <td>p3</td>\n",
       "      <td>p3t1</td>\n",
       "      <td>Plasma cells</td>\n",
       "      <td>tPlasma cells</td>\n",
       "      <td>tPC1</td>\n",
       "    </tr>\n",
       "    <tr>\n",
       "      <th>p3t1-bcBAMM</th>\n",
       "      <td>bcBAMM</td>\n",
       "      <td>p3</td>\n",
       "      <td>p3t1</td>\n",
       "      <td>Monocytes</td>\n",
       "      <td>Patient3-specific</td>\n",
       "      <td>Pt3A_TFF1/MUC5A</td>\n",
       "    </tr>\n",
       "    <tr>\n",
       "      <th>p3t1-bcATNB</th>\n",
       "      <td>bcATNB</td>\n",
       "      <td>p3</td>\n",
       "      <td>p3t1</td>\n",
       "      <td>B cells memory</td>\n",
       "      <td>tB cells</td>\n",
       "      <td>tB</td>\n",
       "    </tr>\n",
       "    <tr>\n",
       "      <th>p3t1-bcAEDB</th>\n",
       "      <td>bcAEDB</td>\n",
       "      <td>p3</td>\n",
       "      <td>p3t1</td>\n",
       "      <td>Monocytes</td>\n",
       "      <td>Patient3-specific</td>\n",
       "      <td>Pt3E_CLDN4</td>\n",
       "    </tr>\n",
       "    <tr>\n",
       "      <th>...</th>\n",
       "      <td>...</td>\n",
       "      <td>...</td>\n",
       "      <td>...</td>\n",
       "      <td>...</td>\n",
       "      <td>...</td>\n",
       "      <td>...</td>\n",
       "    </tr>\n",
       "    <tr>\n",
       "      <th>p7t2-bcFPAE</th>\n",
       "      <td>bcFPAE</td>\n",
       "      <td>p7</td>\n",
       "      <td>p7t2</td>\n",
       "      <td>null</td>\n",
       "      <td>null</td>\n",
       "      <td>null</td>\n",
       "    </tr>\n",
       "    <tr>\n",
       "      <th>p7t2-bcBMXQ</th>\n",
       "      <td>bcBMXQ</td>\n",
       "      <td>p7</td>\n",
       "      <td>p7t2</td>\n",
       "      <td>null</td>\n",
       "      <td>null</td>\n",
       "      <td>null</td>\n",
       "    </tr>\n",
       "    <tr>\n",
       "      <th>p7t2-bcGQJH</th>\n",
       "      <td>bcGQJH</td>\n",
       "      <td>p7</td>\n",
       "      <td>p7t2</td>\n",
       "      <td>null</td>\n",
       "      <td>null</td>\n",
       "      <td>null</td>\n",
       "    </tr>\n",
       "    <tr>\n",
       "      <th>p7t2-bcGEKE</th>\n",
       "      <td>bcGEKE</td>\n",
       "      <td>p7</td>\n",
       "      <td>p7t2</td>\n",
       "      <td>null</td>\n",
       "      <td>null</td>\n",
       "      <td>null</td>\n",
       "    </tr>\n",
       "    <tr>\n",
       "      <th>p7t2-bcFHUY</th>\n",
       "      <td>bcFHUY</td>\n",
       "      <td>p7</td>\n",
       "      <td>p7t2</td>\n",
       "      <td>null</td>\n",
       "      <td>null</td>\n",
       "      <td>null</td>\n",
       "    </tr>\n",
       "  </tbody>\n",
       "</table>\n",
       "<p>85233 rows × 6 columns</p>\n",
       "</div>"
      ],
      "text/plain": [
       "            Barcode Patient Library Most_likely_LM22_cell_type  \\\n",
       "p3t1-bcHNMG  bcHNMG      p3    p3t1             Macrophages M0   \n",
       "p3t1-bcGUOS  bcGUOS      p3    p3t1               Plasma cells   \n",
       "p3t1-bcBAMM  bcBAMM      p3    p3t1                  Monocytes   \n",
       "p3t1-bcATNB  bcATNB      p3    p3t1             B cells memory   \n",
       "p3t1-bcAEDB  bcAEDB      p3    p3t1                  Monocytes   \n",
       "...             ...     ...     ...                        ...   \n",
       "p7t2-bcFPAE  bcFPAE      p7    p7t2                       null   \n",
       "p7t2-bcBMXQ  bcBMXQ      p7    p7t2                       null   \n",
       "p7t2-bcGQJH  bcGQJH      p7    p7t2                       null   \n",
       "p7t2-bcGEKE  bcGEKE      p7    p7t2                       null   \n",
       "p7t2-bcFHUY  bcFHUY      p7    p7t2                       null   \n",
       "\n",
       "               Major_cell_type     Minor_subset  \n",
       "p3t1-bcHNMG           tMoMacDC            tMac5  \n",
       "p3t1-bcGUOS      tPlasma cells             tPC1  \n",
       "p3t1-bcBAMM  Patient3-specific  Pt3A_TFF1/MUC5A  \n",
       "p3t1-bcATNB           tB cells               tB  \n",
       "p3t1-bcAEDB  Patient3-specific       Pt3E_CLDN4  \n",
       "...                        ...              ...  \n",
       "p7t2-bcFPAE               null             null  \n",
       "p7t2-bcBMXQ               null             null  \n",
       "p7t2-bcGQJH               null             null  \n",
       "p7t2-bcGEKE               null             null  \n",
       "p7t2-bcFHUY               null             null  \n",
       "\n",
       "[85233 rows x 6 columns]"
      ]
     },
     "execution_count": 8,
     "metadata": {},
     "output_type": "execute_result"
    }
   ],
   "source": [
    "adata.obs"
   ]
  },
  {
   "cell_type": "code",
   "execution_count": 9,
   "id": "9fb1c41a",
   "metadata": {},
   "outputs": [
    {
     "name": "stderr",
     "output_type": "stream",
     "text": [
      "/home/teach2_pkuhpc/gpfs1/xuzk/Anaconda/envs/py_3.8/lib/python3.8/site-packages/anndata/_core/anndata.py:1228: FutureWarning: The `inplace` parameter in pandas.Categorical.reorder_categories is deprecated and will be removed in a future version. Reordering categories will always return a new Categorical object.\n",
      "  c.reorder_categories(natsorted(c.categories), inplace=True)\n",
      "... storing 'Barcode' as categorical\n",
      "/home/teach2_pkuhpc/gpfs1/xuzk/Anaconda/envs/py_3.8/lib/python3.8/site-packages/anndata/_core/anndata.py:1228: FutureWarning: The `inplace` parameter in pandas.Categorical.reorder_categories is deprecated and will be removed in a future version. Reordering categories will always return a new Categorical object.\n",
      "  c.reorder_categories(natsorted(c.categories), inplace=True)\n",
      "... storing 'Patient' as categorical\n",
      "/home/teach2_pkuhpc/gpfs1/xuzk/Anaconda/envs/py_3.8/lib/python3.8/site-packages/anndata/_core/anndata.py:1228: FutureWarning: The `inplace` parameter in pandas.Categorical.reorder_categories is deprecated and will be removed in a future version. Reordering categories will always return a new Categorical object.\n",
      "  c.reorder_categories(natsorted(c.categories), inplace=True)\n",
      "... storing 'Library' as categorical\n",
      "/home/teach2_pkuhpc/gpfs1/xuzk/Anaconda/envs/py_3.8/lib/python3.8/site-packages/anndata/_core/anndata.py:1228: FutureWarning: The `inplace` parameter in pandas.Categorical.reorder_categories is deprecated and will be removed in a future version. Reordering categories will always return a new Categorical object.\n",
      "  c.reorder_categories(natsorted(c.categories), inplace=True)\n",
      "... storing 'Most_likely_LM22_cell_type' as categorical\n",
      "/home/teach2_pkuhpc/gpfs1/xuzk/Anaconda/envs/py_3.8/lib/python3.8/site-packages/anndata/_core/anndata.py:1228: FutureWarning: The `inplace` parameter in pandas.Categorical.reorder_categories is deprecated and will be removed in a future version. Reordering categories will always return a new Categorical object.\n",
      "  c.reorder_categories(natsorted(c.categories), inplace=True)\n",
      "... storing 'Major_cell_type' as categorical\n",
      "/home/teach2_pkuhpc/gpfs1/xuzk/Anaconda/envs/py_3.8/lib/python3.8/site-packages/anndata/_core/anndata.py:1228: FutureWarning: The `inplace` parameter in pandas.Categorical.reorder_categories is deprecated and will be removed in a future version. Reordering categories will always return a new Categorical object.\n",
      "  c.reorder_categories(natsorted(c.categories), inplace=True)\n",
      "... storing 'Minor_subset' as categorical\n"
     ]
    }
   ],
   "source": [
    "adata.write(raw_file)\n",
    "\n",
    "# 3/30：p3-p7所有tumor libraries，添加文献metadata的细胞类型注释"
   ]
  }
 ],
 "metadata": {
  "kernelspec": {
   "display_name": "scanpy",
   "language": "python",
   "name": "py_3.8"
  },
  "language_info": {
   "codemirror_mode": {
    "name": "ipython",
    "version": 3
   },
   "file_extension": ".py",
   "mimetype": "text/x-python",
   "name": "python",
   "nbconvert_exporter": "python",
   "pygments_lexer": "ipython3",
   "version": "3.8.13"
  }
 },
 "nbformat": 4,
 "nbformat_minor": 5
}
