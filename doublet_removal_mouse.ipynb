{
 "cells": [
  {
   "cell_type": "markdown",
   "id": "6d260cc4",
   "metadata": {},
   "source": [
    "### for murine cells, doublet detection and removal by Scrublet"
   ]
  },
  {
   "cell_type": "code",
   "execution_count": 1,
   "id": "1689145a",
   "metadata": {},
   "outputs": [],
   "source": [
    "import numpy as np\n",
    "import pandas as pd\n",
    "import scanpy as sc\n",
    "import anndata as ad\n",
    "import matplotlib.pyplot as plt"
   ]
  },
  {
   "cell_type": "code",
   "execution_count": 2,
   "id": "124c48c4",
   "metadata": {},
   "outputs": [
    {
     "name": "stderr",
     "output_type": "stream",
     "text": [
      "/home/teach2_pkuhpc/gpfs1/xuzk/Anaconda/envs/py_3.8/lib/python3.8/site-packages/tqdm/auto.py:22: TqdmWarning: IProgress not found. Please update jupyter and ipywidgets. See https://ipywidgets.readthedocs.io/en/stable/user_install.html\n",
      "  from .autonotebook import tqdm as notebook_tqdm\n"
     ]
    },
    {
     "name": "stdout",
     "output_type": "stream",
     "text": [
      "scanpy==1.8.2 anndata==0.7.8 umap==0.5.3 numpy==1.21.6 scipy==1.8.0 pandas==1.4.2 scikit-learn==1.0.2 statsmodels==0.13.2 python-igraph==0.9.10 pynndescent==0.5.6\n"
     ]
    }
   ],
   "source": [
    "sc.settings.verbosity = 3             # verbosity: errors (0), warnings (1), info (2), hints (3)\n",
    "sc.logging.print_header()\n",
    "sc.settings.set_figure_params(dpi=80, facecolor='white')"
   ]
  },
  {
   "cell_type": "code",
   "execution_count": 3,
   "id": "e12d9478",
   "metadata": {},
   "outputs": [],
   "source": [
    "raw_file = 'write_LCA/m_LCA1-2_raw.h5ad'\n",
    "qc1_file = 'write_LCA/m_LCA1-2_qc1.h5ad'# the file that will store the analysis results"
   ]
  },
  {
   "cell_type": "code",
   "execution_count": 4,
   "id": "d690d0c4",
   "metadata": {},
   "outputs": [
    {
     "data": {
      "text/plain": [
       "AnnData object with n_obs × n_vars = 10562 × 28205\n",
       "    obs: 'Barcode', 'Biological replicate', 'Library', 'Most_likely_Immgen_cell_type', 'Major_cell_type', 'Minor_subset'"
      ]
     },
     "execution_count": 4,
     "metadata": {},
     "output_type": "execute_result"
    }
   ],
   "source": [
    "adatas=sc.read_h5ad(raw_file)\n",
    "adatas"
   ]
  },
  {
   "cell_type": "code",
   "execution_count": 5,
   "id": "24326449",
   "metadata": {},
   "outputs": [],
   "source": [
    "# calculate qc metrics for regression\n",
    "adatas.var['mt'] = adatas.var_names.str.startswith('mt-')  # annotate the group of mitochondrial genes as 'mt'\n",
    "sc.pp.calculate_qc_metrics(adatas, qc_vars=['mt'], percent_top=None, log1p=False, inplace=True)"
   ]
  },
  {
   "cell_type": "code",
   "execution_count": 6,
   "id": "4a71ebd7",
   "metadata": {},
   "outputs": [
    {
     "data": {
      "text/plain": [
       "AnnData object with n_obs × n_vars = 10562 × 28205\n",
       "    obs: 'Barcode', 'Biological replicate', 'Library', 'Most_likely_Immgen_cell_type', 'Major_cell_type', 'Minor_subset', 'n_genes_by_counts', 'total_counts', 'total_counts_mt', 'pct_counts_mt'\n",
       "    var: 'mt', 'n_cells_by_counts', 'mean_counts', 'pct_dropout_by_counts', 'total_counts'"
      ]
     },
     "execution_count": 6,
     "metadata": {},
     "output_type": "execute_result"
    }
   ],
   "source": [
    "adatas"
   ]
  },
  {
   "cell_type": "code",
   "execution_count": 8,
   "id": "f4752f5b",
   "metadata": {
    "scrolled": true
   },
   "outputs": [
    {
     "name": "stdout",
     "output_type": "stream",
     "text": [
      "Running Scrublet\n",
      "filtered out 12051 genes that are detected in less than 3 cells\n",
      "normalizing counts per cell\n",
      "    finished (0:00:00)\n",
      "extracting highly variable genes\n",
      "    finished (0:00:00)\n",
      "--> added\n",
      "    'highly_variable', boolean vector (adata.var)\n",
      "    'means', float vector (adata.var)\n",
      "    'dispersions', float vector (adata.var)\n",
      "    'dispersions_norm', float vector (adata.var)\n",
      "normalizing counts per cell\n",
      "    finished (0:00:00)\n",
      "normalizing counts per cell\n",
      "    finished (0:00:00)\n"
     ]
    },
    {
     "name": "stderr",
     "output_type": "stream",
     "text": [
      "/home/teach2_pkuhpc/gpfs1/xuzk/Anaconda/envs/py_3.8/lib/python3.8/site-packages/scanpy/preprocessing/_normalization.py:155: UserWarning: Revieved a view of an AnnData. Making a copy.\n",
      "  view_to_actual(adata)\n"
     ]
    },
    {
     "name": "stdout",
     "output_type": "stream",
     "text": [
      "Embedding transcriptomes using PCA...\n",
      "Automatically set threshold at doublet score = 0.24\n",
      "Detected doublet rate = 0.3%\n",
      "Estimated detectable doublet fraction = 12.5%\n",
      "Overall doublet rate:\n",
      "\tExpected   = 2.5%\n",
      "\tEstimated  = 2.6%\n",
      "    Scrublet finished (0:00:05)\n"
     ]
    },
    {
     "name": "stderr",
     "output_type": "stream",
     "text": [
      "Trying to set attribute `.obs` of view, copying.\n"
     ]
    },
    {
     "name": "stdout",
     "output_type": "stream",
     "text": [
      "Running Scrublet\n",
      "filtered out 9568 genes that are detected in less than 3 cells\n",
      "normalizing counts per cell\n",
      "    finished (0:00:00)\n",
      "extracting highly variable genes\n",
      "    finished (0:00:00)\n",
      "--> added\n",
      "    'highly_variable', boolean vector (adata.var)\n",
      "    'means', float vector (adata.var)\n",
      "    'dispersions', float vector (adata.var)\n",
      "    'dispersions_norm', float vector (adata.var)\n",
      "normalizing counts per cell\n",
      "    finished (0:00:00)\n",
      "normalizing counts per cell\n",
      "    finished (0:00:00)\n"
     ]
    },
    {
     "name": "stderr",
     "output_type": "stream",
     "text": [
      "/home/teach2_pkuhpc/gpfs1/xuzk/Anaconda/envs/py_3.8/lib/python3.8/site-packages/scanpy/preprocessing/_normalization.py:155: UserWarning: Revieved a view of an AnnData. Making a copy.\n",
      "  view_to_actual(adata)\n"
     ]
    },
    {
     "name": "stdout",
     "output_type": "stream",
     "text": [
      "Embedding transcriptomes using PCA...\n",
      "Automatically set threshold at doublet score = 0.21\n",
      "Detected doublet rate = 0.4%\n",
      "Estimated detectable doublet fraction = 7.9%\n",
      "Overall doublet rate:\n",
      "\tExpected   = 2.5%\n",
      "\tEstimated  = 5.6%\n",
      "    Scrublet finished (0:00:03)\n"
     ]
    },
    {
     "name": "stderr",
     "output_type": "stream",
     "text": [
      "Trying to set attribute `.obs` of view, copying.\n"
     ]
    },
    {
     "name": "stdout",
     "output_type": "stream",
     "text": [
      "Running Scrublet\n",
      "filtered out 10250 genes that are detected in less than 3 cells\n",
      "normalizing counts per cell\n",
      "    finished (0:00:00)\n",
      "extracting highly variable genes\n",
      "    finished (0:00:00)\n",
      "--> added\n",
      "    'highly_variable', boolean vector (adata.var)\n",
      "    'means', float vector (adata.var)\n",
      "    'dispersions', float vector (adata.var)\n",
      "    'dispersions_norm', float vector (adata.var)\n",
      "normalizing counts per cell\n",
      "    finished (0:00:00)\n",
      "normalizing counts per cell\n",
      "    finished (0:00:00)\n"
     ]
    },
    {
     "name": "stderr",
     "output_type": "stream",
     "text": [
      "/home/teach2_pkuhpc/gpfs1/xuzk/Anaconda/envs/py_3.8/lib/python3.8/site-packages/scanpy/preprocessing/_normalization.py:155: UserWarning: Revieved a view of an AnnData. Making a copy.\n",
      "  view_to_actual(adata)\n"
     ]
    },
    {
     "name": "stdout",
     "output_type": "stream",
     "text": [
      "Embedding transcriptomes using PCA...\n",
      "Automatically set threshold at doublet score = 0.21\n",
      "Detected doublet rate = 0.2%\n",
      "Estimated detectable doublet fraction = 6.5%\n",
      "Overall doublet rate:\n",
      "\tExpected   = 2.5%\n",
      "\tEstimated  = 2.6%\n",
      "    Scrublet finished (0:00:03)\n"
     ]
    },
    {
     "name": "stderr",
     "output_type": "stream",
     "text": [
      "Trying to set attribute `.obs` of view, copying.\n"
     ]
    },
    {
     "name": "stdout",
     "output_type": "stream",
     "text": [
      "Running Scrublet\n",
      "filtered out 4004 genes that are detected in less than 3 cells\n",
      "normalizing counts per cell\n",
      "    finished (0:00:00)\n",
      "extracting highly variable genes\n",
      "    finished (0:00:00)\n",
      "--> added\n",
      "    'highly_variable', boolean vector (adata.var)\n",
      "    'means', float vector (adata.var)\n",
      "    'dispersions', float vector (adata.var)\n",
      "    'dispersions_norm', float vector (adata.var)\n",
      "normalizing counts per cell\n",
      "    finished (0:00:00)\n",
      "normalizing counts per cell\n",
      "    finished (0:00:00)\n"
     ]
    },
    {
     "name": "stderr",
     "output_type": "stream",
     "text": [
      "/home/teach2_pkuhpc/gpfs1/xuzk/Anaconda/envs/py_3.8/lib/python3.8/site-packages/scanpy/preprocessing/_normalization.py:155: UserWarning: Revieved a view of an AnnData. Making a copy.\n",
      "  view_to_actual(adata)\n"
     ]
    },
    {
     "name": "stdout",
     "output_type": "stream",
     "text": [
      "Embedding transcriptomes using PCA...\n",
      "Automatically set threshold at doublet score = 0.25\n",
      "Detected doublet rate = 0.4%\n",
      "Estimated detectable doublet fraction = 7.0%\n",
      "Overall doublet rate:\n",
      "\tExpected   = 2.5%\n",
      "\tEstimated  = 5.6%\n",
      "    Scrublet finished (0:00:05)\n"
     ]
    },
    {
     "name": "stderr",
     "output_type": "stream",
     "text": [
      "Trying to set attribute `.obs` of view, copying.\n"
     ]
    },
    {
     "name": "stdout",
     "output_type": "stream",
     "text": [
      "Running Scrublet\n",
      "filtered out 11629 genes that are detected in less than 3 cells\n",
      "normalizing counts per cell\n",
      "    finished (0:00:00)\n",
      "extracting highly variable genes\n",
      "    finished (0:00:00)\n",
      "--> added\n",
      "    'highly_variable', boolean vector (adata.var)\n",
      "    'means', float vector (adata.var)\n",
      "    'dispersions', float vector (adata.var)\n",
      "    'dispersions_norm', float vector (adata.var)\n",
      "normalizing counts per cell\n",
      "    finished (0:00:00)\n",
      "normalizing counts per cell\n",
      "    finished (0:00:00)\n"
     ]
    },
    {
     "name": "stderr",
     "output_type": "stream",
     "text": [
      "/home/teach2_pkuhpc/gpfs1/xuzk/Anaconda/envs/py_3.8/lib/python3.8/site-packages/scanpy/preprocessing/_normalization.py:155: UserWarning: Revieved a view of an AnnData. Making a copy.\n",
      "  view_to_actual(adata)\n"
     ]
    },
    {
     "name": "stdout",
     "output_type": "stream",
     "text": [
      "Embedding transcriptomes using PCA...\n",
      "Automatically set threshold at doublet score = 0.20\n",
      "Detected doublet rate = 0.4%\n",
      "Estimated detectable doublet fraction = 8.8%\n",
      "Overall doublet rate:\n",
      "\tExpected   = 2.5%\n",
      "\tEstimated  = 4.6%\n",
      "    Scrublet finished (0:00:02)\n"
     ]
    },
    {
     "name": "stderr",
     "output_type": "stream",
     "text": [
      "Trying to set attribute `.obs` of view, copying.\n"
     ]
    },
    {
     "name": "stdout",
     "output_type": "stream",
     "text": [
      "Running Scrublet\n",
      "filtered out 8137 genes that are detected in less than 3 cells\n",
      "normalizing counts per cell\n",
      "    finished (0:00:00)\n",
      "extracting highly variable genes\n",
      "    finished (0:00:00)\n",
      "--> added\n",
      "    'highly_variable', boolean vector (adata.var)\n",
      "    'means', float vector (adata.var)\n",
      "    'dispersions', float vector (adata.var)\n",
      "    'dispersions_norm', float vector (adata.var)\n",
      "normalizing counts per cell\n",
      "    finished (0:00:00)\n",
      "normalizing counts per cell\n",
      "    finished (0:00:00)\n"
     ]
    },
    {
     "name": "stderr",
     "output_type": "stream",
     "text": [
      "/home/teach2_pkuhpc/gpfs1/xuzk/Anaconda/envs/py_3.8/lib/python3.8/site-packages/scanpy/preprocessing/_normalization.py:155: UserWarning: Revieved a view of an AnnData. Making a copy.\n",
      "  view_to_actual(adata)\n"
     ]
    },
    {
     "name": "stdout",
     "output_type": "stream",
     "text": [
      "Embedding transcriptomes using PCA...\n",
      "Automatically set threshold at doublet score = 0.20\n",
      "Detected doublet rate = 0.3%\n",
      "Estimated detectable doublet fraction = 1.1%\n",
      "Overall doublet rate:\n",
      "\tExpected   = 2.5%\n",
      "\tEstimated  = 26.1%\n",
      "    Scrublet finished (0:00:03)\n"
     ]
    },
    {
     "name": "stderr",
     "output_type": "stream",
     "text": [
      "Trying to set attribute `.obs` of view, copying.\n"
     ]
    },
    {
     "name": "stdout",
     "output_type": "stream",
     "text": [
      "Running Scrublet\n",
      "filtered out 16026 genes that are detected in less than 3 cells\n",
      "normalizing counts per cell\n",
      "    finished (0:00:00)\n",
      "extracting highly variable genes\n",
      "    finished (0:00:00)\n",
      "--> added\n",
      "    'highly_variable', boolean vector (adata.var)\n",
      "    'means', float vector (adata.var)\n",
      "    'dispersions', float vector (adata.var)\n",
      "    'dispersions_norm', float vector (adata.var)\n",
      "normalizing counts per cell\n",
      "    finished (0:00:00)\n",
      "normalizing counts per cell\n",
      "    finished (0:00:00)\n"
     ]
    },
    {
     "name": "stderr",
     "output_type": "stream",
     "text": [
      "/home/teach2_pkuhpc/gpfs1/xuzk/Anaconda/envs/py_3.8/lib/python3.8/site-packages/scanpy/preprocessing/_normalization.py:155: UserWarning: Revieved a view of an AnnData. Making a copy.\n",
      "  view_to_actual(adata)\n"
     ]
    },
    {
     "name": "stdout",
     "output_type": "stream",
     "text": [
      "Embedding transcriptomes using PCA...\n",
      "Automatically set threshold at doublet score = 0.10\n",
      "Detected doublet rate = 0.3%\n",
      "Estimated detectable doublet fraction = 0.4%\n",
      "Overall doublet rate:\n",
      "\tExpected   = 2.5%\n",
      "\tEstimated  = 57.1%\n",
      "    Scrublet finished (0:00:01)\n"
     ]
    },
    {
     "name": "stderr",
     "output_type": "stream",
     "text": [
      "Trying to set attribute `.obs` of view, copying.\n"
     ]
    },
    {
     "name": "stdout",
     "output_type": "stream",
     "text": [
      "Running Scrublet\n",
      "filtered out 6937 genes that are detected in less than 3 cells\n",
      "normalizing counts per cell\n",
      "    finished (0:00:00)\n",
      "extracting highly variable genes\n",
      "    finished (0:00:00)\n",
      "--> added\n",
      "    'highly_variable', boolean vector (adata.var)\n",
      "    'means', float vector (adata.var)\n",
      "    'dispersions', float vector (adata.var)\n",
      "    'dispersions_norm', float vector (adata.var)\n",
      "normalizing counts per cell\n",
      "    finished (0:00:00)\n",
      "normalizing counts per cell\n",
      "    finished (0:00:00)\n"
     ]
    },
    {
     "name": "stderr",
     "output_type": "stream",
     "text": [
      "/home/teach2_pkuhpc/gpfs1/xuzk/Anaconda/envs/py_3.8/lib/python3.8/site-packages/scanpy/preprocessing/_normalization.py:155: UserWarning: Revieved a view of an AnnData. Making a copy.\n",
      "  view_to_actual(adata)\n"
     ]
    },
    {
     "name": "stdout",
     "output_type": "stream",
     "text": [
      "Embedding transcriptomes using PCA...\n",
      "Automatically set threshold at doublet score = 0.22\n",
      "Detected doublet rate = 0.3%\n",
      "Estimated detectable doublet fraction = 7.7%\n",
      "Overall doublet rate:\n",
      "\tExpected   = 2.5%\n",
      "\tEstimated  = 4.1%\n",
      "    Scrublet finished (0:00:03)\n"
     ]
    },
    {
     "name": "stderr",
     "output_type": "stream",
     "text": [
      "Trying to set attribute `.obs` of view, copying.\n"
     ]
    },
    {
     "name": "stdout",
     "output_type": "stream",
     "text": [
      "Running Scrublet\n",
      "filtered out 10926 genes that are detected in less than 3 cells\n",
      "normalizing counts per cell\n",
      "    finished (0:00:00)\n",
      "extracting highly variable genes\n",
      "    finished (0:00:00)\n",
      "--> added\n",
      "    'highly_variable', boolean vector (adata.var)\n",
      "    'means', float vector (adata.var)\n",
      "    'dispersions', float vector (adata.var)\n",
      "    'dispersions_norm', float vector (adata.var)\n",
      "normalizing counts per cell\n",
      "    finished (0:00:00)\n",
      "normalizing counts per cell\n",
      "    finished (0:00:00)\n"
     ]
    },
    {
     "name": "stderr",
     "output_type": "stream",
     "text": [
      "/home/teach2_pkuhpc/gpfs1/xuzk/Anaconda/envs/py_3.8/lib/python3.8/site-packages/scanpy/preprocessing/_normalization.py:155: UserWarning: Revieved a view of an AnnData. Making a copy.\n",
      "  view_to_actual(adata)\n"
     ]
    },
    {
     "name": "stdout",
     "output_type": "stream",
     "text": [
      "Embedding transcriptomes using PCA...\n",
      "Automatically set threshold at doublet score = 0.19\n",
      "Detected doublet rate = 0.5%\n",
      "Estimated detectable doublet fraction = 23.2%\n",
      "Overall doublet rate:\n",
      "\tExpected   = 2.5%\n",
      "\tEstimated  = 2.0%\n",
      "    Scrublet finished (0:00:03)\n"
     ]
    },
    {
     "name": "stderr",
     "output_type": "stream",
     "text": [
      "Trying to set attribute `.obs` of view, copying.\n"
     ]
    }
   ],
   "source": [
    "%matplotlib inline\n",
    "import scrublet\n",
    "adatas_new=[]\n",
    "names = ['t_1_1','t_1_2','t_1_3','t_1_4','t_1_5','t_2_1','t_2_2','t_2_3','t_2_4']\n",
    "for name in names:\n",
    "    # extract a single sample from the raw data\n",
    "    adata = adatas[adatas.obs.Library == name, :] \n",
    "    # use scrublet to predict doublets in data, the expected_doublet_rate set as the threshold in paper\n",
    "    sc.external.pp.scrublet(adata, expected_doublet_rate=0.025) \n",
    "    # reassembele the sample adata annotated with doublets\n",
    "    adatas_new.append(adata)\n",
    "    # doublet validation\n",
    "    #sc.external.pl.scrublet_score_distribution(adata,save='_'+name)\n",
    "    # create the dimension-reduction plot and show the detected doublets\n",
    "    #sc.pp.normalize_total(adata, target_sum=1e4)\n",
    "    #sc.pp.log1p(adata)\n",
    "    #sc.pp.highly_variable_genes(adata, min_mean=0.05, max_mean=8, min_disp=0.5) \n",
    "    #adata = adata[:, adata.var.highly_variable]\n",
    "    #sc.pp.regress_out(adata, ['total_counts', 'pct_counts_mt'])\n",
    "    #sc.pp.scale(adata, max_value=10)\n",
    "    #sc.tl.pca(adata, svd_solver='arpack')\n",
    "    #sc.pp.neighbors(adata)\n",
    "    #sc.tl.tsne(adata)\n",
    "    #sc.tl.louvain(adata, resolution = 1)\n",
    "    #predicted_list=list(adata.obs['predicted_doublet'])   \n",
    "    #predicted_list_new = []\n",
    "    #for i in predicted_list:\n",
    "    #    predicted_list_new.append(str(i))\n",
    "    #adata.obs['predicted_doublet_n']=predicted_list_new\n",
    "    #sc.pl.tsne(adata, color = ['predicted_doublet_n'],size=40,save='_'+name+'_doublet',title='predicted_doublet_'+name)"
   ]
  },
  {
   "cell_type": "code",
   "execution_count": 9,
   "id": "2e4921c6",
   "metadata": {},
   "outputs": [],
   "source": [
    "adatas_new = ad.concat(adatas_new, merge = \"same\")"
   ]
  },
  {
   "cell_type": "code",
   "execution_count": 10,
   "id": "ab83b633",
   "metadata": {},
   "outputs": [
    {
     "data": {
      "text/html": [
       "<div>\n",
       "<style scoped>\n",
       "    .dataframe tbody tr th:only-of-type {\n",
       "        vertical-align: middle;\n",
       "    }\n",
       "\n",
       "    .dataframe tbody tr th {\n",
       "        vertical-align: top;\n",
       "    }\n",
       "\n",
       "    .dataframe thead th {\n",
       "        text-align: right;\n",
       "    }\n",
       "</style>\n",
       "<table border=\"1\" class=\"dataframe\">\n",
       "  <thead>\n",
       "    <tr style=\"text-align: right;\">\n",
       "      <th></th>\n",
       "      <th>Barcode</th>\n",
       "      <th>Biological replicate</th>\n",
       "      <th>Library</th>\n",
       "      <th>Most_likely_Immgen_cell_type</th>\n",
       "      <th>Major_cell_type</th>\n",
       "      <th>Minor_subset</th>\n",
       "      <th>n_genes_by_counts</th>\n",
       "      <th>total_counts</th>\n",
       "      <th>total_counts_mt</th>\n",
       "      <th>pct_counts_mt</th>\n",
       "      <th>doublet_score</th>\n",
       "      <th>predicted_doublet</th>\n",
       "    </tr>\n",
       "  </thead>\n",
       "  <tbody>\n",
       "    <tr>\n",
       "      <th>t_1_1-bc0001</th>\n",
       "      <td>bc0001</td>\n",
       "      <td>t1</td>\n",
       "      <td>t_1_1</td>\n",
       "      <td>MF_Thio5_II+480int_PC</td>\n",
       "      <td>MoMacDC</td>\n",
       "      <td>Mac1</td>\n",
       "      <td>2420</td>\n",
       "      <td>7927.0</td>\n",
       "      <td>269.0</td>\n",
       "      <td>3.393465</td>\n",
       "      <td>0.008588</td>\n",
       "      <td>False</td>\n",
       "    </tr>\n",
       "    <tr>\n",
       "      <th>t_1_1-bc0002</th>\n",
       "      <td>bc0002</td>\n",
       "      <td>t1</td>\n",
       "      <td>t_1_1</td>\n",
       "      <td>DC_103-11b+24+_Lu</td>\n",
       "      <td>MoMacDC</td>\n",
       "      <td>DC1</td>\n",
       "      <td>1895</td>\n",
       "      <td>5665.0</td>\n",
       "      <td>366.0</td>\n",
       "      <td>6.460724</td>\n",
       "      <td>0.013491</td>\n",
       "      <td>False</td>\n",
       "    </tr>\n",
       "    <tr>\n",
       "      <th>t_1_1-bc0003</th>\n",
       "      <td>bc0003</td>\n",
       "      <td>t1</td>\n",
       "      <td>t_1_1</td>\n",
       "      <td>DC_8-4-11b+_SLN</td>\n",
       "      <td>MoMacDC</td>\n",
       "      <td>DC3</td>\n",
       "      <td>1671</td>\n",
       "      <td>4615.0</td>\n",
       "      <td>119.0</td>\n",
       "      <td>2.578548</td>\n",
       "      <td>0.017442</td>\n",
       "      <td>False</td>\n",
       "    </tr>\n",
       "    <tr>\n",
       "      <th>t_1_1-bc0004</th>\n",
       "      <td>bc0004</td>\n",
       "      <td>t1</td>\n",
       "      <td>t_1_1</td>\n",
       "      <td>DC_8+_Th</td>\n",
       "      <td>MoMacDC</td>\n",
       "      <td>DC1</td>\n",
       "      <td>2193</td>\n",
       "      <td>5353.0</td>\n",
       "      <td>165.0</td>\n",
       "      <td>3.082384</td>\n",
       "      <td>0.011876</td>\n",
       "      <td>False</td>\n",
       "    </tr>\n",
       "    <tr>\n",
       "      <th>t_1_1-bc0005</th>\n",
       "      <td>bc0005</td>\n",
       "      <td>t1</td>\n",
       "      <td>t_1_1</td>\n",
       "      <td>DC_8-4-11b+_SLN</td>\n",
       "      <td>MoMacDC</td>\n",
       "      <td>DC3</td>\n",
       "      <td>1699</td>\n",
       "      <td>4653.0</td>\n",
       "      <td>135.0</td>\n",
       "      <td>2.901354</td>\n",
       "      <td>0.024419</td>\n",
       "      <td>False</td>\n",
       "    </tr>\n",
       "    <tr>\n",
       "      <th>...</th>\n",
       "      <td>...</td>\n",
       "      <td>...</td>\n",
       "      <td>...</td>\n",
       "      <td>...</td>\n",
       "      <td>...</td>\n",
       "      <td>...</td>\n",
       "      <td>...</td>\n",
       "      <td>...</td>\n",
       "      <td>...</td>\n",
       "      <td>...</td>\n",
       "      <td>...</td>\n",
       "      <td>...</td>\n",
       "    </tr>\n",
       "    <tr>\n",
       "      <th>t_2_4-bc1084</th>\n",
       "      <td>bc1084</td>\n",
       "      <td>t2</td>\n",
       "      <td>t_2_4</td>\n",
       "      <td>B_Fo_Sp</td>\n",
       "      <td>B cells</td>\n",
       "      <td>B cells</td>\n",
       "      <td>387</td>\n",
       "      <td>912.0</td>\n",
       "      <td>35.0</td>\n",
       "      <td>3.837719</td>\n",
       "      <td>0.018868</td>\n",
       "      <td>False</td>\n",
       "    </tr>\n",
       "    <tr>\n",
       "      <th>t_2_4-bc1085</th>\n",
       "      <td>bc1085</td>\n",
       "      <td>t2</td>\n",
       "      <td>t_2_4</td>\n",
       "      <td>GN_UrAc_PC</td>\n",
       "      <td>Neutrophils</td>\n",
       "      <td>N4</td>\n",
       "      <td>480</td>\n",
       "      <td>926.0</td>\n",
       "      <td>51.0</td>\n",
       "      <td>5.507559</td>\n",
       "      <td>0.008475</td>\n",
       "      <td>False</td>\n",
       "    </tr>\n",
       "    <tr>\n",
       "      <th>t_2_4-bc1086</th>\n",
       "      <td>bc1086</td>\n",
       "      <td>t2</td>\n",
       "      <td>t_2_4</td>\n",
       "      <td>GN_Arth_SynF</td>\n",
       "      <td>Neutrophils</td>\n",
       "      <td>N3</td>\n",
       "      <td>443</td>\n",
       "      <td>795.0</td>\n",
       "      <td>5.0</td>\n",
       "      <td>0.628931</td>\n",
       "      <td>0.006561</td>\n",
       "      <td>False</td>\n",
       "    </tr>\n",
       "    <tr>\n",
       "      <th>t_2_4-bc1087</th>\n",
       "      <td>bc1087</td>\n",
       "      <td>t2</td>\n",
       "      <td>t_2_4</td>\n",
       "      <td>null</td>\n",
       "      <td>null</td>\n",
       "      <td>null</td>\n",
       "      <td>379</td>\n",
       "      <td>695.0</td>\n",
       "      <td>157.0</td>\n",
       "      <td>22.589928</td>\n",
       "      <td>0.018868</td>\n",
       "      <td>False</td>\n",
       "    </tr>\n",
       "    <tr>\n",
       "      <th>t_2_4-bc1088</th>\n",
       "      <td>bc1088</td>\n",
       "      <td>t2</td>\n",
       "      <td>t_2_4</td>\n",
       "      <td>B_Fo_MLN</td>\n",
       "      <td>B cells</td>\n",
       "      <td>B cells</td>\n",
       "      <td>406</td>\n",
       "      <td>661.0</td>\n",
       "      <td>53.0</td>\n",
       "      <td>8.018155</td>\n",
       "      <td>0.014827</td>\n",
       "      <td>False</td>\n",
       "    </tr>\n",
       "  </tbody>\n",
       "</table>\n",
       "<p>10562 rows × 12 columns</p>\n",
       "</div>"
      ],
      "text/plain": [
       "             Barcode Biological replicate Library  \\\n",
       "t_1_1-bc0001  bc0001                   t1   t_1_1   \n",
       "t_1_1-bc0002  bc0002                   t1   t_1_1   \n",
       "t_1_1-bc0003  bc0003                   t1   t_1_1   \n",
       "t_1_1-bc0004  bc0004                   t1   t_1_1   \n",
       "t_1_1-bc0005  bc0005                   t1   t_1_1   \n",
       "...              ...                  ...     ...   \n",
       "t_2_4-bc1084  bc1084                   t2   t_2_4   \n",
       "t_2_4-bc1085  bc1085                   t2   t_2_4   \n",
       "t_2_4-bc1086  bc1086                   t2   t_2_4   \n",
       "t_2_4-bc1087  bc1087                   t2   t_2_4   \n",
       "t_2_4-bc1088  bc1088                   t2   t_2_4   \n",
       "\n",
       "             Most_likely_Immgen_cell_type Major_cell_type Minor_subset  \\\n",
       "t_1_1-bc0001        MF_Thio5_II+480int_PC         MoMacDC         Mac1   \n",
       "t_1_1-bc0002            DC_103-11b+24+_Lu         MoMacDC          DC1   \n",
       "t_1_1-bc0003              DC_8-4-11b+_SLN         MoMacDC          DC3   \n",
       "t_1_1-bc0004                     DC_8+_Th         MoMacDC          DC1   \n",
       "t_1_1-bc0005              DC_8-4-11b+_SLN         MoMacDC          DC3   \n",
       "...                                   ...             ...          ...   \n",
       "t_2_4-bc1084                      B_Fo_Sp         B cells      B cells   \n",
       "t_2_4-bc1085                   GN_UrAc_PC     Neutrophils           N4   \n",
       "t_2_4-bc1086                 GN_Arth_SynF     Neutrophils           N3   \n",
       "t_2_4-bc1087                         null            null         null   \n",
       "t_2_4-bc1088                     B_Fo_MLN         B cells      B cells   \n",
       "\n",
       "              n_genes_by_counts  total_counts  total_counts_mt  pct_counts_mt  \\\n",
       "t_1_1-bc0001               2420        7927.0            269.0       3.393465   \n",
       "t_1_1-bc0002               1895        5665.0            366.0       6.460724   \n",
       "t_1_1-bc0003               1671        4615.0            119.0       2.578548   \n",
       "t_1_1-bc0004               2193        5353.0            165.0       3.082384   \n",
       "t_1_1-bc0005               1699        4653.0            135.0       2.901354   \n",
       "...                         ...           ...              ...            ...   \n",
       "t_2_4-bc1084                387         912.0             35.0       3.837719   \n",
       "t_2_4-bc1085                480         926.0             51.0       5.507559   \n",
       "t_2_4-bc1086                443         795.0              5.0       0.628931   \n",
       "t_2_4-bc1087                379         695.0            157.0      22.589928   \n",
       "t_2_4-bc1088                406         661.0             53.0       8.018155   \n",
       "\n",
       "              doublet_score  predicted_doublet  \n",
       "t_1_1-bc0001       0.008588              False  \n",
       "t_1_1-bc0002       0.013491              False  \n",
       "t_1_1-bc0003       0.017442              False  \n",
       "t_1_1-bc0004       0.011876              False  \n",
       "t_1_1-bc0005       0.024419              False  \n",
       "...                     ...                ...  \n",
       "t_2_4-bc1084       0.018868              False  \n",
       "t_2_4-bc1085       0.008475              False  \n",
       "t_2_4-bc1086       0.006561              False  \n",
       "t_2_4-bc1087       0.018868              False  \n",
       "t_2_4-bc1088       0.014827              False  \n",
       "\n",
       "[10562 rows x 12 columns]"
      ]
     },
     "execution_count": 10,
     "metadata": {},
     "output_type": "execute_result"
    }
   ],
   "source": [
    "adatas_new.obs"
   ]
  },
  {
   "cell_type": "code",
   "execution_count": 11,
   "id": "a84d6b38",
   "metadata": {
    "scrolled": true
   },
   "outputs": [
    {
     "data": {
      "text/plain": [
       "AnnData object with n_obs × n_vars = 10562 × 28205\n",
       "    obs: 'Barcode', 'Biological replicate', 'Library', 'Most_likely_Immgen_cell_type', 'Major_cell_type', 'Minor_subset', 'n_genes_by_counts', 'total_counts', 'total_counts_mt', 'pct_counts_mt', 'doublet_score', 'predicted_doublet'\n",
       "    var: 'mt', 'n_cells_by_counts', 'mean_counts', 'pct_dropout_by_counts', 'total_counts'"
      ]
     },
     "execution_count": 11,
     "metadata": {},
     "output_type": "execute_result"
    }
   ],
   "source": [
    "adatas_new"
   ]
  },
  {
   "cell_type": "code",
   "execution_count": 12,
   "id": "e016a5f3",
   "metadata": {},
   "outputs": [
    {
     "name": "stderr",
     "output_type": "stream",
     "text": [
      "/home/teach2_pkuhpc/gpfs1/xuzk/Anaconda/envs/py_3.8/lib/python3.8/site-packages/anndata/_core/anndata.py:1228: FutureWarning: The `inplace` parameter in pandas.Categorical.reorder_categories is deprecated and will be removed in a future version. Reordering categories will always return a new Categorical object.\n",
      "  c.reorder_categories(natsorted(c.categories), inplace=True)\n",
      "... storing 'Barcode' as categorical\n",
      "/home/teach2_pkuhpc/gpfs1/xuzk/Anaconda/envs/py_3.8/lib/python3.8/site-packages/anndata/_core/anndata.py:1228: FutureWarning: The `inplace` parameter in pandas.Categorical.reorder_categories is deprecated and will be removed in a future version. Reordering categories will always return a new Categorical object.\n",
      "  c.reorder_categories(natsorted(c.categories), inplace=True)\n",
      "... storing 'Biological replicate' as categorical\n",
      "/home/teach2_pkuhpc/gpfs1/xuzk/Anaconda/envs/py_3.8/lib/python3.8/site-packages/anndata/_core/anndata.py:1228: FutureWarning: The `inplace` parameter in pandas.Categorical.reorder_categories is deprecated and will be removed in a future version. Reordering categories will always return a new Categorical object.\n",
      "  c.reorder_categories(natsorted(c.categories), inplace=True)\n",
      "... storing 'Library' as categorical\n",
      "/home/teach2_pkuhpc/gpfs1/xuzk/Anaconda/envs/py_3.8/lib/python3.8/site-packages/anndata/_core/anndata.py:1228: FutureWarning: The `inplace` parameter in pandas.Categorical.reorder_categories is deprecated and will be removed in a future version. Reordering categories will always return a new Categorical object.\n",
      "  c.reorder_categories(natsorted(c.categories), inplace=True)\n",
      "... storing 'Most_likely_Immgen_cell_type' as categorical\n",
      "/home/teach2_pkuhpc/gpfs1/xuzk/Anaconda/envs/py_3.8/lib/python3.8/site-packages/anndata/_core/anndata.py:1228: FutureWarning: The `inplace` parameter in pandas.Categorical.reorder_categories is deprecated and will be removed in a future version. Reordering categories will always return a new Categorical object.\n",
      "  c.reorder_categories(natsorted(c.categories), inplace=True)\n",
      "... storing 'Major_cell_type' as categorical\n",
      "/home/teach2_pkuhpc/gpfs1/xuzk/Anaconda/envs/py_3.8/lib/python3.8/site-packages/anndata/_core/anndata.py:1228: FutureWarning: The `inplace` parameter in pandas.Categorical.reorder_categories is deprecated and will be removed in a future version. Reordering categories will always return a new Categorical object.\n",
      "  c.reorder_categories(natsorted(c.categories), inplace=True)\n",
      "... storing 'Minor_subset' as categorical\n"
     ]
    }
   ],
   "source": [
    "adatas_new.write(qc1_file)"
   ]
  }
 ],
 "metadata": {
  "kernelspec": {
   "display_name": "scanpy",
   "language": "python",
   "name": "py_3.8"
  },
  "language_info": {
   "codemirror_mode": {
    "name": "ipython",
    "version": 3
   },
   "file_extension": ".py",
   "mimetype": "text/x-python",
   "name": "python",
   "nbconvert_exporter": "python",
   "pygments_lexer": "ipython3",
   "version": "3.8.13"
  }
 },
 "nbformat": 4,
 "nbformat_minor": 5
}
