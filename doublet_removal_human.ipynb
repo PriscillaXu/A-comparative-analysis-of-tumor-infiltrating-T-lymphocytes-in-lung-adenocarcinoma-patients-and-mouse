{
 "cells": [
  {
   "cell_type": "markdown",
   "id": "6d260cc4",
   "metadata": {},
   "source": [
    "### for human cells, doublet detection and removal by Scrublet"
   ]
  },
  {
   "cell_type": "code",
   "execution_count": 1,
   "id": "1689145a",
   "metadata": {},
   "outputs": [],
   "source": [
    "import numpy as np\n",
    "import pandas as pd\n",
    "import scanpy as sc\n",
    "import anndata as ad\n",
    "import matplotlib.pyplot as plt"
   ]
  },
  {
   "cell_type": "code",
   "execution_count": 2,
   "id": "124c48c4",
   "metadata": {},
   "outputs": [
    {
     "name": "stderr",
     "output_type": "stream",
     "text": [
      "/home/teach2_pkuhpc/gpfs1/xuzk/Anaconda/envs/py3/lib/python3.10/site-packages/tqdm/auto.py:22: TqdmWarning: IProgress not found. Please update jupyter and ipywidgets. See https://ipywidgets.readthedocs.io/en/stable/user_install.html\n",
      "  from .autonotebook import tqdm as notebook_tqdm\n"
     ]
    },
    {
     "name": "stdout",
     "output_type": "stream",
     "text": [
      "scanpy==1.8.2 anndata==0.8.0 umap==0.5.2 numpy==1.21.5 scipy==1.8.0 pandas==1.4.1 scikit-learn==1.0.2 statsmodels==0.13.2 python-igraph==0.9.9 pynndescent==0.5.6\n"
     ]
    }
   ],
   "source": [
    "sc.settings.verbosity = 3             # verbosity: errors (0), warnings (1), info (2), hints (3)\n",
    "sc.logging.print_header()\n",
    "sc.settings.set_figure_params(dpi=80, facecolor='white')"
   ]
  },
  {
   "cell_type": "code",
   "execution_count": 3,
   "id": "e12d9478",
   "metadata": {},
   "outputs": [],
   "source": [
    "raw_file = 'write_LCA/h_LCA1-5_raw.h5ad'\n",
    "qc_file = 'write_LCA/h_LCA1-5_qc.h5ad'# the file that will store the analysis results"
   ]
  },
  {
   "cell_type": "code",
   "execution_count": 4,
   "id": "d690d0c4",
   "metadata": {},
   "outputs": [
    {
     "name": "stderr",
     "output_type": "stream",
     "text": [
      "/home/teach2_pkuhpc/gpfs1/xuzk/Anaconda/envs/py3/lib/python3.10/site-packages/anndata/_core/anndata.py:1828: UserWarning: Observation names are not unique. To make them unique, call `.obs_names_make_unique`.\n",
      "  utils.warn_names_duplicates(\"obs\")\n"
     ]
    },
    {
     "data": {
      "text/plain": [
       "AnnData object with n_obs × n_vars = 85233 × 41861\n",
       "    obs: 'Patient', 'Library', 'Most likely LM22 cell type', 'Major cell type', 'Minor subset'"
      ]
     },
     "execution_count": 4,
     "metadata": {},
     "output_type": "execute_result"
    }
   ],
   "source": [
    "adatas=sc.read_h5ad(raw_file)\n",
    "adatas"
   ]
  },
  {
   "cell_type": "code",
   "execution_count": 5,
   "id": "24326449",
   "metadata": {},
   "outputs": [],
   "source": [
    "# calculate qc metrics for regression\n",
    "adatas.var['mt'] = adatas.var_names.str.startswith('MT-')  # annotate the group of mitochondrial genes as 'mt'\n",
    "sc.pp.calculate_qc_metrics(adatas, qc_vars=['mt'], percent_top=None, log1p=False, inplace=True)"
   ]
  },
  {
   "cell_type": "code",
   "execution_count": 6,
   "id": "4a71ebd7",
   "metadata": {},
   "outputs": [
    {
     "data": {
      "text/plain": [
       "AnnData object with n_obs × n_vars = 85233 × 41861\n",
       "    obs: 'Patient', 'Library', 'Most likely LM22 cell type', 'Major cell type', 'Minor subset', 'n_genes_by_counts', 'total_counts', 'total_counts_mt', 'pct_counts_mt'\n",
       "    var: 'mt', 'n_cells_by_counts', 'mean_counts', 'pct_dropout_by_counts', 'total_counts'"
      ]
     },
     "execution_count": 6,
     "metadata": {},
     "output_type": "execute_result"
    }
   ],
   "source": [
    "adatas"
   ]
  },
  {
   "cell_type": "code",
   "execution_count": 7,
   "id": "f4752f5b",
   "metadata": {},
   "outputs": [
    {
     "name": "stdout",
     "output_type": "stream",
     "text": [
      "Running Scrublet\n",
      "filtered out 19542 genes that are detected in less than 3 cells\n",
      "filtered out 3 cells that have less than 3 genes expressed\n",
      "normalizing counts per cell\n",
      "    finished (0:00:00)\n",
      "extracting highly variable genes\n",
      "    finished (0:00:03)\n",
      "--> added\n",
      "    'highly_variable', boolean vector (adata.var)\n",
      "    'means', float vector (adata.var)\n",
      "    'dispersions', float vector (adata.var)\n",
      "    'dispersions_norm', float vector (adata.var)\n"
     ]
    },
    {
     "name": "stderr",
     "output_type": "stream",
     "text": [
      "/home/teach2_pkuhpc/gpfs1/xuzk/Anaconda/envs/py3/lib/python3.10/site-packages/scanpy/preprocessing/_normalization.py:155: UserWarning: Revieved a view of an AnnData. Making a copy.\n",
      "  view_to_actual(adata)\n"
     ]
    },
    {
     "name": "stdout",
     "output_type": "stream",
     "text": [
      "normalizing counts per cell\n",
      "    finished (0:00:00)\n",
      "normalizing counts per cell\n",
      "    finished (0:00:00)\n",
      "Embedding transcriptomes using PCA...\n",
      "Automatically set threshold at doublet score = 0.43\n",
      "Detected doublet rate = 0.2%\n",
      "Estimated detectable doublet fraction = 7.7%\n",
      "Overall doublet rate:\n",
      "\tExpected   = 2.5%\n",
      "\tEstimated  = 2.3%\n",
      "    Scrublet finished (0:00:27)\n"
     ]
    },
    {
     "name": "stderr",
     "output_type": "stream",
     "text": [
      "/home/teach2_pkuhpc/gpfs1/xuzk/Anaconda/envs/py3/lib/python3.10/site-packages/scanpy/external/pp/_scrublet.py:227: ImplicitModificationWarning: Trying to modify attribute `.obs` of view, initializing view as actual.\n",
      "  adata.obs['doublet_score'] = adata_obs.obs['doublet_score']\n"
     ]
    },
    {
     "name": "stdout",
     "output_type": "stream",
     "text": [
      "WARNING: saving figure to file figures/scrublet_score_distribution_p3t1.pdf\n",
      "normalizing counts per cell\n",
      "    finished (0:00:00)\n",
      "extracting highly variable genes\n",
      "    finished (0:00:05)\n",
      "--> added\n",
      "    'highly_variable', boolean vector (adata.var)\n",
      "    'means', float vector (adata.var)\n",
      "    'dispersions', float vector (adata.var)\n",
      "    'dispersions_norm', float vector (adata.var)\n"
     ]
    },
    {
     "name": "stderr",
     "output_type": "stream",
     "text": [
      "/home/teach2_pkuhpc/gpfs1/xuzk/Anaconda/envs/py3/lib/python3.10/site-packages/scanpy/preprocessing/_simple.py:843: UserWarning: Revieved a view of an AnnData. Making a copy.\n",
      "  view_to_actual(adata)\n"
     ]
    },
    {
     "name": "stdout",
     "output_type": "stream",
     "text": [
      "computing PCA\n",
      "    on highly variable genes\n",
      "    with n_comps=50\n",
      "    finished (0:00:09)\n",
      "computing neighbors\n",
      "    using 'X_pca' with n_pcs = 50\n",
      "    finished: added to `.uns['neighbors']`\n",
      "    `.obsp['distances']`, distances for each pair of neighbors\n",
      "    `.obsp['connectivities']`, weighted adjacency matrix (0:00:10)\n",
      "computing tSNE\n",
      "    using 'X_pca' with n_pcs = 50\n",
      "    using sklearn.manifold.TSNE\n"
     ]
    },
    {
     "name": "stderr",
     "output_type": "stream",
     "text": [
      "/home/teach2_pkuhpc/gpfs1/xuzk/Anaconda/envs/py3/lib/python3.10/site-packages/sklearn/manifold/_t_sne.py:780: FutureWarning: The default initialization in TSNE will change from 'random' to 'pca' in 1.2.\n",
      "  warnings.warn(\n"
     ]
    },
    {
     "name": "stdout",
     "output_type": "stream",
     "text": [
      "    finished: added\n",
      "    'X_tsne', tSNE coordinates (adata.obsm) (0:00:22)\n",
      "WARNING: saving figure to file figures/tsne_p3t1_doublet.pdf\n",
      "Running Scrublet\n",
      "filtered out 19191 genes that are detected in less than 3 cells\n",
      "filtered out 3 cells that have less than 3 genes expressed\n",
      "normalizing counts per cell\n",
      "    finished (0:00:00)\n",
      "extracting highly variable genes\n",
      "    finished (0:00:03)\n",
      "--> added\n",
      "    'highly_variable', boolean vector (adata.var)\n",
      "    'means', float vector (adata.var)\n",
      "    'dispersions', float vector (adata.var)\n",
      "    'dispersions_norm', float vector (adata.var)\n"
     ]
    },
    {
     "name": "stderr",
     "output_type": "stream",
     "text": [
      "/home/teach2_pkuhpc/gpfs1/xuzk/Anaconda/envs/py3/lib/python3.10/site-packages/scanpy/preprocessing/_normalization.py:155: UserWarning: Revieved a view of an AnnData. Making a copy.\n",
      "  view_to_actual(adata)\n"
     ]
    },
    {
     "name": "stdout",
     "output_type": "stream",
     "text": [
      "normalizing counts per cell\n",
      "    finished (0:00:00)\n",
      "normalizing counts per cell\n",
      "    finished (0:00:00)\n",
      "Embedding transcriptomes using PCA...\n",
      "Automatically set threshold at doublet score = 0.44\n",
      "Detected doublet rate = 0.2%\n",
      "Estimated detectable doublet fraction = 7.3%\n",
      "Overall doublet rate:\n",
      "\tExpected   = 2.5%\n",
      "\tEstimated  = 3.1%\n",
      "    Scrublet finished (0:00:31)\n"
     ]
    },
    {
     "name": "stderr",
     "output_type": "stream",
     "text": [
      "/home/teach2_pkuhpc/gpfs1/xuzk/Anaconda/envs/py3/lib/python3.10/site-packages/scanpy/external/pp/_scrublet.py:227: ImplicitModificationWarning: Trying to modify attribute `.obs` of view, initializing view as actual.\n",
      "  adata.obs['doublet_score'] = adata_obs.obs['doublet_score']\n"
     ]
    },
    {
     "name": "stdout",
     "output_type": "stream",
     "text": [
      "WARNING: saving figure to file figures/scrublet_score_distribution_p3t2.pdf\n",
      "normalizing counts per cell\n"
     ]
    },
    {
     "name": "stderr",
     "output_type": "stream",
     "text": [
      "/home/teach2_pkuhpc/gpfs1/xuzk/Anaconda/envs/py3/lib/python3.10/site-packages/scanpy/preprocessing/_normalization.py:182: UserWarning: Some cells have zero counts\n",
      "  warn(UserWarning('Some cells have zero counts'))\n"
     ]
    },
    {
     "name": "stdout",
     "output_type": "stream",
     "text": [
      "    finished (0:00:00)\n",
      "extracting highly variable genes\n",
      "    finished (0:00:05)\n",
      "--> added\n",
      "    'highly_variable', boolean vector (adata.var)\n",
      "    'means', float vector (adata.var)\n",
      "    'dispersions', float vector (adata.var)\n",
      "    'dispersions_norm', float vector (adata.var)\n"
     ]
    },
    {
     "name": "stderr",
     "output_type": "stream",
     "text": [
      "/home/teach2_pkuhpc/gpfs1/xuzk/Anaconda/envs/py3/lib/python3.10/site-packages/scanpy/preprocessing/_simple.py:843: UserWarning: Revieved a view of an AnnData. Making a copy.\n",
      "  view_to_actual(adata)\n"
     ]
    },
    {
     "name": "stdout",
     "output_type": "stream",
     "text": [
      "computing PCA\n",
      "    on highly variable genes\n",
      "    with n_comps=50\n",
      "    finished (0:00:10)\n",
      "computing neighbors\n",
      "    using 'X_pca' with n_pcs = 50\n",
      "    finished: added to `.uns['neighbors']`\n",
      "    `.obsp['distances']`, distances for each pair of neighbors\n",
      "    `.obsp['connectivities']`, weighted adjacency matrix (0:00:01)\n",
      "computing tSNE\n",
      "    using 'X_pca' with n_pcs = 50\n",
      "    using sklearn.manifold.TSNE\n"
     ]
    },
    {
     "name": "stderr",
     "output_type": "stream",
     "text": [
      "/home/teach2_pkuhpc/gpfs1/xuzk/Anaconda/envs/py3/lib/python3.10/site-packages/sklearn/manifold/_t_sne.py:780: FutureWarning: The default initialization in TSNE will change from 'random' to 'pca' in 1.2.\n",
      "  warnings.warn(\n"
     ]
    },
    {
     "name": "stdout",
     "output_type": "stream",
     "text": [
      "    finished: added\n",
      "    'X_tsne', tSNE coordinates (adata.obsm) (0:00:23)\n",
      "WARNING: saving figure to file figures/tsne_p3t2_doublet.pdf\n",
      "Running Scrublet\n",
      "filtered out 18841 genes that are detected in less than 3 cells\n",
      "filtered out 5 cells that have less than 3 genes expressed\n",
      "normalizing counts per cell\n",
      "    finished (0:00:00)\n",
      "extracting highly variable genes\n",
      "    finished (0:00:02)\n",
      "--> added\n",
      "    'highly_variable', boolean vector (adata.var)\n",
      "    'means', float vector (adata.var)\n",
      "    'dispersions', float vector (adata.var)\n",
      "    'dispersions_norm', float vector (adata.var)\n"
     ]
    },
    {
     "name": "stderr",
     "output_type": "stream",
     "text": [
      "/home/teach2_pkuhpc/gpfs1/xuzk/Anaconda/envs/py3/lib/python3.10/site-packages/scanpy/preprocessing/_normalization.py:155: UserWarning: Revieved a view of an AnnData. Making a copy.\n",
      "  view_to_actual(adata)\n"
     ]
    },
    {
     "name": "stdout",
     "output_type": "stream",
     "text": [
      "normalizing counts per cell\n",
      "    finished (0:00:00)\n",
      "normalizing counts per cell\n",
      "    finished (0:00:00)\n",
      "Embedding transcriptomes using PCA...\n",
      "Automatically set threshold at doublet score = 0.45\n",
      "Detected doublet rate = 0.1%\n",
      "Estimated detectable doublet fraction = 3.7%\n",
      "Overall doublet rate:\n",
      "\tExpected   = 2.5%\n",
      "\tEstimated  = 3.1%\n",
      "    Scrublet finished (0:00:21)\n"
     ]
    },
    {
     "name": "stderr",
     "output_type": "stream",
     "text": [
      "/home/teach2_pkuhpc/gpfs1/xuzk/Anaconda/envs/py3/lib/python3.10/site-packages/scanpy/external/pp/_scrublet.py:227: ImplicitModificationWarning: Trying to modify attribute `.obs` of view, initializing view as actual.\n",
      "  adata.obs['doublet_score'] = adata_obs.obs['doublet_score']\n"
     ]
    },
    {
     "name": "stdout",
     "output_type": "stream",
     "text": [
      "WARNING: saving figure to file figures/scrublet_score_distribution_p3t3.pdf\n",
      "normalizing counts per cell\n",
      "    finished (0:00:00)\n",
      "extracting highly variable genes\n",
      "    finished (0:00:04)\n",
      "--> added\n",
      "    'highly_variable', boolean vector (adata.var)\n",
      "    'means', float vector (adata.var)\n",
      "    'dispersions', float vector (adata.var)\n",
      "    'dispersions_norm', float vector (adata.var)\n"
     ]
    },
    {
     "name": "stderr",
     "output_type": "stream",
     "text": [
      "/home/teach2_pkuhpc/gpfs1/xuzk/Anaconda/envs/py3/lib/python3.10/site-packages/scanpy/preprocessing/_simple.py:843: UserWarning: Revieved a view of an AnnData. Making a copy.\n",
      "  view_to_actual(adata)\n"
     ]
    },
    {
     "name": "stdout",
     "output_type": "stream",
     "text": [
      "computing PCA\n",
      "    on highly variable genes\n",
      "    with n_comps=50\n",
      "    finished (0:00:12)\n",
      "computing neighbors\n",
      "    using 'X_pca' with n_pcs = 50\n",
      "    finished: added to `.uns['neighbors']`\n",
      "    `.obsp['distances']`, distances for each pair of neighbors\n",
      "    `.obsp['connectivities']`, weighted adjacency matrix (0:00:01)\n",
      "computing tSNE\n",
      "    using 'X_pca' with n_pcs = 50\n",
      "    using sklearn.manifold.TSNE\n"
     ]
    },
    {
     "name": "stderr",
     "output_type": "stream",
     "text": [
      "/home/teach2_pkuhpc/gpfs1/xuzk/Anaconda/envs/py3/lib/python3.10/site-packages/sklearn/manifold/_t_sne.py:780: FutureWarning: The default initialization in TSNE will change from 'random' to 'pca' in 1.2.\n",
      "  warnings.warn(\n"
     ]
    },
    {
     "name": "stdout",
     "output_type": "stream",
     "text": [
      "    finished: added\n",
      "    'X_tsne', tSNE coordinates (adata.obsm) (0:00:27)\n",
      "WARNING: saving figure to file figures/tsne_p3t3_doublet.pdf\n",
      "Running Scrublet\n",
      "filtered out 22769 genes that are detected in less than 3 cells\n",
      "filtered out 11 cells that have less than 3 genes expressed\n",
      "normalizing counts per cell\n",
      "    finished (0:00:00)\n",
      "extracting highly variable genes\n",
      "    finished (0:00:01)\n",
      "--> added\n",
      "    'highly_variable', boolean vector (adata.var)\n",
      "    'means', float vector (adata.var)\n",
      "    'dispersions', float vector (adata.var)\n",
      "    'dispersions_norm', float vector (adata.var)\n",
      "normalizing counts per cell\n",
      "    finished (0:00:00)\n",
      "normalizing counts per cell\n",
      "    finished (0:00:00)\n"
     ]
    },
    {
     "name": "stderr",
     "output_type": "stream",
     "text": [
      "/home/teach2_pkuhpc/gpfs1/xuzk/Anaconda/envs/py3/lib/python3.10/site-packages/scanpy/preprocessing/_normalization.py:155: UserWarning: Revieved a view of an AnnData. Making a copy.\n",
      "  view_to_actual(adata)\n"
     ]
    },
    {
     "name": "stdout",
     "output_type": "stream",
     "text": [
      "Embedding transcriptomes using PCA...\n",
      "Automatically set threshold at doublet score = 0.30\n",
      "Detected doublet rate = 0.3%\n",
      "Estimated detectable doublet fraction = 5.1%\n",
      "Overall doublet rate:\n",
      "\tExpected   = 2.5%\n",
      "\tEstimated  = 5.8%\n",
      "    Scrublet finished (0:00:07)\n"
     ]
    },
    {
     "name": "stderr",
     "output_type": "stream",
     "text": [
      "/home/teach2_pkuhpc/gpfs1/xuzk/Anaconda/envs/py3/lib/python3.10/site-packages/scanpy/external/pp/_scrublet.py:227: ImplicitModificationWarning: Trying to modify attribute `.obs` of view, initializing view as actual.\n",
      "  adata.obs['doublet_score'] = adata_obs.obs['doublet_score']\n"
     ]
    },
    {
     "name": "stdout",
     "output_type": "stream",
     "text": [
      "WARNING: saving figure to file figures/scrublet_score_distribution_p4t1.pdf\n",
      "normalizing counts per cell\n",
      "    finished (0:00:00)\n",
      "extracting highly variable genes\n",
      "    finished (0:00:01)\n",
      "--> added\n",
      "    'highly_variable', boolean vector (adata.var)\n",
      "    'means', float vector (adata.var)\n",
      "    'dispersions', float vector (adata.var)\n",
      "    'dispersions_norm', float vector (adata.var)\n"
     ]
    },
    {
     "name": "stderr",
     "output_type": "stream",
     "text": [
      "/home/teach2_pkuhpc/gpfs1/xuzk/Anaconda/envs/py3/lib/python3.10/site-packages/scanpy/preprocessing/_simple.py:843: UserWarning: Revieved a view of an AnnData. Making a copy.\n",
      "  view_to_actual(adata)\n"
     ]
    },
    {
     "name": "stdout",
     "output_type": "stream",
     "text": [
      "computing PCA\n",
      "    on highly variable genes\n",
      "    with n_comps=50\n",
      "    finished (0:00:03)\n",
      "computing neighbors\n",
      "    using 'X_pca' with n_pcs = 50\n",
      "    finished: added to `.uns['neighbors']`\n",
      "    `.obsp['distances']`, distances for each pair of neighbors\n",
      "    `.obsp['connectivities']`, weighted adjacency matrix (0:00:00)\n",
      "computing tSNE\n",
      "    using 'X_pca' with n_pcs = 50\n",
      "    using sklearn.manifold.TSNE\n"
     ]
    },
    {
     "name": "stderr",
     "output_type": "stream",
     "text": [
      "/home/teach2_pkuhpc/gpfs1/xuzk/Anaconda/envs/py3/lib/python3.10/site-packages/sklearn/manifold/_t_sne.py:780: FutureWarning: The default initialization in TSNE will change from 'random' to 'pca' in 1.2.\n",
      "  warnings.warn(\n"
     ]
    },
    {
     "name": "stdout",
     "output_type": "stream",
     "text": [
      "    finished: added\n",
      "    'X_tsne', tSNE coordinates (adata.obsm) (0:00:07)\n",
      "WARNING: saving figure to file figures/tsne_p4t1_doublet.pdf\n",
      "Running Scrublet\n",
      "filtered out 22585 genes that are detected in less than 3 cells\n",
      "filtered out 7 cells that have less than 3 genes expressed\n",
      "normalizing counts per cell\n",
      "    finished (0:00:00)\n",
      "extracting highly variable genes\n",
      "    finished (0:00:01)\n",
      "--> added\n",
      "    'highly_variable', boolean vector (adata.var)\n",
      "    'means', float vector (adata.var)\n",
      "    'dispersions', float vector (adata.var)\n",
      "    'dispersions_norm', float vector (adata.var)\n",
      "normalizing counts per cell\n",
      "    finished (0:00:00)\n",
      "normalizing counts per cell\n",
      "    finished (0:00:00)\n"
     ]
    },
    {
     "name": "stderr",
     "output_type": "stream",
     "text": [
      "/home/teach2_pkuhpc/gpfs1/xuzk/Anaconda/envs/py3/lib/python3.10/site-packages/scanpy/preprocessing/_normalization.py:155: UserWarning: Revieved a view of an AnnData. Making a copy.\n",
      "  view_to_actual(adata)\n",
      "/home/teach2_pkuhpc/gpfs1/xuzk/Anaconda/envs/py3/lib/python3.10/site-packages/scanpy/preprocessing/_normalization.py:182: UserWarning: Some cells have zero counts\n",
      "  warn(UserWarning('Some cells have zero counts'))\n"
     ]
    },
    {
     "name": "stdout",
     "output_type": "stream",
     "text": [
      "Embedding transcriptomes using PCA...\n",
      "Automatically set threshold at doublet score = 0.33\n",
      "Detected doublet rate = 0.1%\n",
      "Estimated detectable doublet fraction = 2.5%\n",
      "Overall doublet rate:\n",
      "\tExpected   = 2.5%\n",
      "\tEstimated  = 2.7%\n",
      "    Scrublet finished (0:00:06)\n"
     ]
    },
    {
     "name": "stderr",
     "output_type": "stream",
     "text": [
      "/home/teach2_pkuhpc/gpfs1/xuzk/Anaconda/envs/py3/lib/python3.10/site-packages/scanpy/external/pp/_scrublet.py:227: ImplicitModificationWarning: Trying to modify attribute `.obs` of view, initializing view as actual.\n",
      "  adata.obs['doublet_score'] = adata_obs.obs['doublet_score']\n"
     ]
    },
    {
     "name": "stdout",
     "output_type": "stream",
     "text": [
      "WARNING: saving figure to file figures/scrublet_score_distribution_p4t2.pdf\n",
      "normalizing counts per cell\n",
      "    finished (0:00:00)\n"
     ]
    },
    {
     "name": "stderr",
     "output_type": "stream",
     "text": [
      "/home/teach2_pkuhpc/gpfs1/xuzk/Anaconda/envs/py3/lib/python3.10/site-packages/scanpy/preprocessing/_normalization.py:182: UserWarning: Some cells have zero counts\n",
      "  warn(UserWarning('Some cells have zero counts'))\n"
     ]
    },
    {
     "name": "stdout",
     "output_type": "stream",
     "text": [
      "extracting highly variable genes\n",
      "    finished (0:00:02)\n",
      "--> added\n",
      "    'highly_variable', boolean vector (adata.var)\n",
      "    'means', float vector (adata.var)\n",
      "    'dispersions', float vector (adata.var)\n",
      "    'dispersions_norm', float vector (adata.var)\n"
     ]
    },
    {
     "name": "stderr",
     "output_type": "stream",
     "text": [
      "/home/teach2_pkuhpc/gpfs1/xuzk/Anaconda/envs/py3/lib/python3.10/site-packages/scanpy/preprocessing/_simple.py:843: UserWarning: Revieved a view of an AnnData. Making a copy.\n",
      "  view_to_actual(adata)\n"
     ]
    },
    {
     "name": "stdout",
     "output_type": "stream",
     "text": [
      "computing PCA\n",
      "    on highly variable genes\n",
      "    with n_comps=50\n",
      "    finished (0:00:05)\n",
      "computing neighbors\n",
      "    using 'X_pca' with n_pcs = 50\n",
      "    finished: added to `.uns['neighbors']`\n",
      "    `.obsp['distances']`, distances for each pair of neighbors\n",
      "    `.obsp['connectivities']`, weighted adjacency matrix (0:00:00)\n",
      "computing tSNE\n",
      "    using 'X_pca' with n_pcs = 50\n",
      "    using sklearn.manifold.TSNE\n"
     ]
    },
    {
     "name": "stderr",
     "output_type": "stream",
     "text": [
      "/home/teach2_pkuhpc/gpfs1/xuzk/Anaconda/envs/py3/lib/python3.10/site-packages/sklearn/manifold/_t_sne.py:780: FutureWarning: The default initialization in TSNE will change from 'random' to 'pca' in 1.2.\n",
      "  warnings.warn(\n"
     ]
    },
    {
     "name": "stdout",
     "output_type": "stream",
     "text": [
      "    finished: added\n",
      "    'X_tsne', tSNE coordinates (adata.obsm) (0:00:09)\n",
      "WARNING: saving figure to file figures/tsne_p4t2_doublet.pdf\n",
      "Running Scrublet\n",
      "filtered out 22209 genes that are detected in less than 3 cells\n",
      "filtered out 11 cells that have less than 3 genes expressed\n",
      "normalizing counts per cell\n",
      "    finished (0:00:00)\n",
      "extracting highly variable genes\n",
      "    finished (0:00:01)\n",
      "--> added\n",
      "    'highly_variable', boolean vector (adata.var)\n",
      "    'means', float vector (adata.var)\n",
      "    'dispersions', float vector (adata.var)\n",
      "    'dispersions_norm', float vector (adata.var)\n",
      "normalizing counts per cell\n",
      "    finished (0:00:00)\n",
      "normalizing counts per cell\n",
      "    finished (0:00:00)\n"
     ]
    },
    {
     "name": "stderr",
     "output_type": "stream",
     "text": [
      "/home/teach2_pkuhpc/gpfs1/xuzk/Anaconda/envs/py3/lib/python3.10/site-packages/scanpy/preprocessing/_normalization.py:155: UserWarning: Revieved a view of an AnnData. Making a copy.\n",
      "  view_to_actual(adata)\n"
     ]
    },
    {
     "name": "stdout",
     "output_type": "stream",
     "text": [
      "Embedding transcriptomes using PCA...\n",
      "Automatically set threshold at doublet score = 0.32\n",
      "Detected doublet rate = 0.2%\n",
      "Estimated detectable doublet fraction = 6.4%\n",
      "Overall doublet rate:\n",
      "\tExpected   = 2.5%\n",
      "\tEstimated  = 3.1%\n",
      "    Scrublet finished (0:00:08)\n"
     ]
    },
    {
     "name": "stderr",
     "output_type": "stream",
     "text": [
      "/home/teach2_pkuhpc/gpfs1/xuzk/Anaconda/envs/py3/lib/python3.10/site-packages/scanpy/external/pp/_scrublet.py:227: ImplicitModificationWarning: Trying to modify attribute `.obs` of view, initializing view as actual.\n",
      "  adata.obs['doublet_score'] = adata_obs.obs['doublet_score']\n"
     ]
    },
    {
     "name": "stdout",
     "output_type": "stream",
     "text": [
      "WARNING: saving figure to file figures/scrublet_score_distribution_p4t3.pdf\n",
      "normalizing counts per cell\n",
      "    finished (0:00:00)\n"
     ]
    },
    {
     "name": "stderr",
     "output_type": "stream",
     "text": [
      "/home/teach2_pkuhpc/gpfs1/xuzk/Anaconda/envs/py3/lib/python3.10/site-packages/scanpy/preprocessing/_normalization.py:182: UserWarning: Some cells have zero counts\n",
      "  warn(UserWarning('Some cells have zero counts'))\n"
     ]
    },
    {
     "name": "stdout",
     "output_type": "stream",
     "text": [
      "extracting highly variable genes\n",
      "    finished (0:00:02)\n",
      "--> added\n",
      "    'highly_variable', boolean vector (adata.var)\n",
      "    'means', float vector (adata.var)\n",
      "    'dispersions', float vector (adata.var)\n",
      "    'dispersions_norm', float vector (adata.var)\n"
     ]
    },
    {
     "name": "stderr",
     "output_type": "stream",
     "text": [
      "/home/teach2_pkuhpc/gpfs1/xuzk/Anaconda/envs/py3/lib/python3.10/site-packages/scanpy/preprocessing/_simple.py:843: UserWarning: Revieved a view of an AnnData. Making a copy.\n",
      "  view_to_actual(adata)\n"
     ]
    },
    {
     "name": "stdout",
     "output_type": "stream",
     "text": [
      "computing PCA\n",
      "    on highly variable genes\n",
      "    with n_comps=50\n",
      "    finished (0:00:03)\n",
      "computing neighbors\n",
      "    using 'X_pca' with n_pcs = 50\n",
      "    finished: added to `.uns['neighbors']`\n",
      "    `.obsp['distances']`, distances for each pair of neighbors\n",
      "    `.obsp['connectivities']`, weighted adjacency matrix (0:00:00)\n",
      "computing tSNE\n",
      "    using 'X_pca' with n_pcs = 50\n",
      "    using sklearn.manifold.TSNE\n"
     ]
    },
    {
     "name": "stderr",
     "output_type": "stream",
     "text": [
      "/home/teach2_pkuhpc/gpfs1/xuzk/Anaconda/envs/py3/lib/python3.10/site-packages/sklearn/manifold/_t_sne.py:780: FutureWarning: The default initialization in TSNE will change from 'random' to 'pca' in 1.2.\n",
      "  warnings.warn(\n"
     ]
    },
    {
     "name": "stdout",
     "output_type": "stream",
     "text": [
      "    finished: added\n",
      "    'X_tsne', tSNE coordinates (adata.obsm) (0:00:08)\n",
      "WARNING: saving figure to file figures/tsne_p4t3_doublet.pdf\n",
      "Running Scrublet\n",
      "filtered out 21013 genes that are detected in less than 3 cells\n",
      "filtered out 20 cells that have less than 3 genes expressed\n",
      "normalizing counts per cell\n",
      "    finished (0:00:00)\n",
      "extracting highly variable genes\n",
      "    finished (0:00:01)\n",
      "--> added\n",
      "    'highly_variable', boolean vector (adata.var)\n",
      "    'means', float vector (adata.var)\n",
      "    'dispersions', float vector (adata.var)\n",
      "    'dispersions_norm', float vector (adata.var)\n",
      "normalizing counts per cell\n",
      "    finished (0:00:00)\n",
      "normalizing counts per cell\n",
      "    finished (0:00:00)\n"
     ]
    },
    {
     "name": "stderr",
     "output_type": "stream",
     "text": [
      "/home/teach2_pkuhpc/gpfs1/xuzk/Anaconda/envs/py3/lib/python3.10/site-packages/scanpy/preprocessing/_normalization.py:155: UserWarning: Revieved a view of an AnnData. Making a copy.\n",
      "  view_to_actual(adata)\n",
      "/home/teach2_pkuhpc/gpfs1/xuzk/Anaconda/envs/py3/lib/python3.10/site-packages/scanpy/preprocessing/_normalization.py:182: UserWarning: Some cells have zero counts\n",
      "  warn(UserWarning('Some cells have zero counts'))\n"
     ]
    },
    {
     "name": "stdout",
     "output_type": "stream",
     "text": [
      "Embedding transcriptomes using PCA...\n",
      "Automatically set threshold at doublet score = 0.42\n",
      "Detected doublet rate = 0.1%\n",
      "Estimated detectable doublet fraction = 3.2%\n",
      "Overall doublet rate:\n",
      "\tExpected   = 2.5%\n",
      "\tEstimated  = 2.4%\n",
      "    Scrublet finished (0:00:13)\n"
     ]
    },
    {
     "name": "stderr",
     "output_type": "stream",
     "text": [
      "/home/teach2_pkuhpc/gpfs1/xuzk/Anaconda/envs/py3/lib/python3.10/site-packages/scanpy/external/pp/_scrublet.py:227: ImplicitModificationWarning: Trying to modify attribute `.obs` of view, initializing view as actual.\n",
      "  adata.obs['doublet_score'] = adata_obs.obs['doublet_score']\n"
     ]
    },
    {
     "name": "stdout",
     "output_type": "stream",
     "text": [
      "WARNING: saving figure to file figures/scrublet_score_distribution_p5t1.pdf\n",
      "normalizing counts per cell\n",
      "    finished (0:00:00)\n",
      "extracting highly variable genes\n",
      "    finished (0:00:03)\n",
      "--> added\n",
      "    'highly_variable', boolean vector (adata.var)\n",
      "    'means', float vector (adata.var)\n",
      "    'dispersions', float vector (adata.var)\n",
      "    'dispersions_norm', float vector (adata.var)\n"
     ]
    },
    {
     "name": "stderr",
     "output_type": "stream",
     "text": [
      "/home/teach2_pkuhpc/gpfs1/xuzk/Anaconda/envs/py3/lib/python3.10/site-packages/scanpy/preprocessing/_simple.py:843: UserWarning: Revieved a view of an AnnData. Making a copy.\n",
      "  view_to_actual(adata)\n"
     ]
    },
    {
     "name": "stdout",
     "output_type": "stream",
     "text": [
      "computing PCA\n",
      "    on highly variable genes\n",
      "    with n_comps=50\n",
      "    finished (0:00:08)\n",
      "computing neighbors\n",
      "    using 'X_pca' with n_pcs = 50\n",
      "    finished: added to `.uns['neighbors']`\n",
      "    `.obsp['distances']`, distances for each pair of neighbors\n",
      "    `.obsp['connectivities']`, weighted adjacency matrix (0:00:01)\n",
      "computing tSNE\n",
      "    using 'X_pca' with n_pcs = 50\n",
      "    using sklearn.manifold.TSNE\n"
     ]
    },
    {
     "name": "stderr",
     "output_type": "stream",
     "text": [
      "/home/teach2_pkuhpc/gpfs1/xuzk/Anaconda/envs/py3/lib/python3.10/site-packages/sklearn/manifold/_t_sne.py:780: FutureWarning: The default initialization in TSNE will change from 'random' to 'pca' in 1.2.\n",
      "  warnings.warn(\n"
     ]
    },
    {
     "name": "stdout",
     "output_type": "stream",
     "text": [
      "    finished: added\n",
      "    'X_tsne', tSNE coordinates (adata.obsm) (0:00:18)\n",
      "WARNING: saving figure to file figures/tsne_p5t1_doublet.pdf\n",
      "Running Scrublet\n",
      "filtered out 20606 genes that are detected in less than 3 cells\n",
      "filtered out 3 cells that have less than 3 genes expressed\n",
      "normalizing counts per cell\n",
      "    finished (0:00:00)\n",
      "extracting highly variable genes\n",
      "    finished (0:00:01)\n",
      "--> added\n",
      "    'highly_variable', boolean vector (adata.var)\n",
      "    'means', float vector (adata.var)\n",
      "    'dispersions', float vector (adata.var)\n",
      "    'dispersions_norm', float vector (adata.var)\n"
     ]
    },
    {
     "name": "stderr",
     "output_type": "stream",
     "text": [
      "/home/teach2_pkuhpc/gpfs1/xuzk/Anaconda/envs/py3/lib/python3.10/site-packages/scanpy/preprocessing/_normalization.py:155: UserWarning: Revieved a view of an AnnData. Making a copy.\n",
      "  view_to_actual(adata)\n"
     ]
    },
    {
     "name": "stdout",
     "output_type": "stream",
     "text": [
      "normalizing counts per cell\n",
      "    finished (0:00:00)\n",
      "normalizing counts per cell\n",
      "    finished (0:00:00)\n",
      "Embedding transcriptomes using PCA...\n",
      "Automatically set threshold at doublet score = 0.38\n",
      "Detected doublet rate = 0.4%\n",
      "Estimated detectable doublet fraction = 13.3%\n",
      "Overall doublet rate:\n",
      "\tExpected   = 2.5%\n",
      "\tEstimated  = 2.7%\n",
      "    Scrublet finished (0:00:12)\n"
     ]
    },
    {
     "name": "stderr",
     "output_type": "stream",
     "text": [
      "/home/teach2_pkuhpc/gpfs1/xuzk/Anaconda/envs/py3/lib/python3.10/site-packages/scanpy/external/pp/_scrublet.py:227: ImplicitModificationWarning: Trying to modify attribute `.obs` of view, initializing view as actual.\n",
      "  adata.obs['doublet_score'] = adata_obs.obs['doublet_score']\n"
     ]
    },
    {
     "name": "stdout",
     "output_type": "stream",
     "text": [
      "WARNING: saving figure to file figures/scrublet_score_distribution_p5t2.pdf\n",
      "normalizing counts per cell\n",
      "    finished (0:00:00)\n"
     ]
    },
    {
     "name": "stderr",
     "output_type": "stream",
     "text": [
      "/home/teach2_pkuhpc/gpfs1/xuzk/Anaconda/envs/py3/lib/python3.10/site-packages/scanpy/preprocessing/_normalization.py:182: UserWarning: Some cells have zero counts\n",
      "  warn(UserWarning('Some cells have zero counts'))\n"
     ]
    },
    {
     "name": "stdout",
     "output_type": "stream",
     "text": [
      "extracting highly variable genes\n",
      "    finished (0:00:02)\n",
      "--> added\n",
      "    'highly_variable', boolean vector (adata.var)\n",
      "    'means', float vector (adata.var)\n",
      "    'dispersions', float vector (adata.var)\n",
      "    'dispersions_norm', float vector (adata.var)\n"
     ]
    },
    {
     "name": "stderr",
     "output_type": "stream",
     "text": [
      "/home/teach2_pkuhpc/gpfs1/xuzk/Anaconda/envs/py3/lib/python3.10/site-packages/scanpy/preprocessing/_simple.py:843: UserWarning: Revieved a view of an AnnData. Making a copy.\n",
      "  view_to_actual(adata)\n"
     ]
    },
    {
     "name": "stdout",
     "output_type": "stream",
     "text": [
      "computing PCA\n",
      "    on highly variable genes\n",
      "    with n_comps=50\n",
      "    finished (0:00:05)\n",
      "computing neighbors\n",
      "    using 'X_pca' with n_pcs = 50\n",
      "    finished: added to `.uns['neighbors']`\n",
      "    `.obsp['distances']`, distances for each pair of neighbors\n",
      "    `.obsp['connectivities']`, weighted adjacency matrix (0:00:00)\n",
      "computing tSNE\n",
      "    using 'X_pca' with n_pcs = 50\n",
      "    using sklearn.manifold.TSNE\n"
     ]
    },
    {
     "name": "stderr",
     "output_type": "stream",
     "text": [
      "/home/teach2_pkuhpc/gpfs1/xuzk/Anaconda/envs/py3/lib/python3.10/site-packages/sklearn/manifold/_t_sne.py:780: FutureWarning: The default initialization in TSNE will change from 'random' to 'pca' in 1.2.\n",
      "  warnings.warn(\n"
     ]
    },
    {
     "name": "stdout",
     "output_type": "stream",
     "text": [
      "    finished: added\n",
      "    'X_tsne', tSNE coordinates (adata.obsm) (0:00:13)\n",
      "WARNING: saving figure to file figures/tsne_p5t2_doublet.pdf\n",
      "Running Scrublet\n",
      "filtered out 21017 genes that are detected in less than 3 cells\n",
      "filtered out 3 cells that have less than 3 genes expressed\n",
      "normalizing counts per cell\n",
      "    finished (0:00:00)\n",
      "extracting highly variable genes\n",
      "    finished (0:00:01)\n",
      "--> added\n",
      "    'highly_variable', boolean vector (adata.var)\n",
      "    'means', float vector (adata.var)\n",
      "    'dispersions', float vector (adata.var)\n",
      "    'dispersions_norm', float vector (adata.var)\n"
     ]
    },
    {
     "name": "stderr",
     "output_type": "stream",
     "text": [
      "/home/teach2_pkuhpc/gpfs1/xuzk/Anaconda/envs/py3/lib/python3.10/site-packages/scanpy/preprocessing/_normalization.py:155: UserWarning: Revieved a view of an AnnData. Making a copy.\n",
      "  view_to_actual(adata)\n"
     ]
    },
    {
     "name": "stdout",
     "output_type": "stream",
     "text": [
      "normalizing counts per cell\n",
      "    finished (0:00:00)\n",
      "normalizing counts per cell\n",
      "    finished (0:00:00)\n",
      "Embedding transcriptomes using PCA...\n",
      "Automatically set threshold at doublet score = 0.38\n",
      "Detected doublet rate = 0.2%\n",
      "Estimated detectable doublet fraction = 9.2%\n",
      "Overall doublet rate:\n",
      "\tExpected   = 2.5%\n",
      "\tEstimated  = 2.3%\n",
      "    Scrublet finished (0:00:14)\n"
     ]
    },
    {
     "name": "stderr",
     "output_type": "stream",
     "text": [
      "/home/teach2_pkuhpc/gpfs1/xuzk/Anaconda/envs/py3/lib/python3.10/site-packages/scanpy/external/pp/_scrublet.py:227: ImplicitModificationWarning: Trying to modify attribute `.obs` of view, initializing view as actual.\n",
      "  adata.obs['doublet_score'] = adata_obs.obs['doublet_score']\n"
     ]
    },
    {
     "name": "stdout",
     "output_type": "stream",
     "text": [
      "WARNING: saving figure to file figures/scrublet_score_distribution_p6t1.pdf\n",
      "normalizing counts per cell\n",
      "    finished (0:00:00)\n"
     ]
    },
    {
     "name": "stderr",
     "output_type": "stream",
     "text": [
      "/home/teach2_pkuhpc/gpfs1/xuzk/Anaconda/envs/py3/lib/python3.10/site-packages/scanpy/preprocessing/_normalization.py:182: UserWarning: Some cells have zero counts\n",
      "  warn(UserWarning('Some cells have zero counts'))\n"
     ]
    },
    {
     "name": "stdout",
     "output_type": "stream",
     "text": [
      "extracting highly variable genes\n",
      "    finished (0:00:03)\n",
      "--> added\n",
      "    'highly_variable', boolean vector (adata.var)\n",
      "    'means', float vector (adata.var)\n",
      "    'dispersions', float vector (adata.var)\n",
      "    'dispersions_norm', float vector (adata.var)\n"
     ]
    },
    {
     "name": "stderr",
     "output_type": "stream",
     "text": [
      "/home/teach2_pkuhpc/gpfs1/xuzk/Anaconda/envs/py3/lib/python3.10/site-packages/scanpy/preprocessing/_simple.py:843: UserWarning: Revieved a view of an AnnData. Making a copy.\n",
      "  view_to_actual(adata)\n"
     ]
    },
    {
     "name": "stdout",
     "output_type": "stream",
     "text": [
      "computing PCA\n",
      "    on highly variable genes\n",
      "    with n_comps=50\n",
      "    finished (0:00:06)\n",
      "computing neighbors\n",
      "    using 'X_pca' with n_pcs = 50\n",
      "    finished: added to `.uns['neighbors']`\n",
      "    `.obsp['distances']`, distances for each pair of neighbors\n",
      "    `.obsp['connectivities']`, weighted adjacency matrix (0:00:01)\n",
      "computing tSNE\n",
      "    using 'X_pca' with n_pcs = 50\n",
      "    using sklearn.manifold.TSNE\n"
     ]
    },
    {
     "name": "stderr",
     "output_type": "stream",
     "text": [
      "/home/teach2_pkuhpc/gpfs1/xuzk/Anaconda/envs/py3/lib/python3.10/site-packages/sklearn/manifold/_t_sne.py:780: FutureWarning: The default initialization in TSNE will change from 'random' to 'pca' in 1.2.\n",
      "  warnings.warn(\n"
     ]
    },
    {
     "name": "stdout",
     "output_type": "stream",
     "text": [
      "    finished: added\n",
      "    'X_tsne', tSNE coordinates (adata.obsm) (0:00:13)\n",
      "WARNING: saving figure to file figures/tsne_p6t1_doublet.pdf\n",
      "Running Scrublet\n",
      "filtered out 22486 genes that are detected in less than 3 cells\n",
      "filtered out 8 cells that have less than 3 genes expressed\n",
      "normalizing counts per cell\n",
      "    finished (0:00:00)\n",
      "extracting highly variable genes\n",
      "    finished (0:00:01)\n",
      "--> added\n",
      "    'highly_variable', boolean vector (adata.var)\n",
      "    'means', float vector (adata.var)\n",
      "    'dispersions', float vector (adata.var)\n",
      "    'dispersions_norm', float vector (adata.var)\n"
     ]
    },
    {
     "name": "stderr",
     "output_type": "stream",
     "text": [
      "/home/teach2_pkuhpc/gpfs1/xuzk/Anaconda/envs/py3/lib/python3.10/site-packages/scanpy/preprocessing/_normalization.py:155: UserWarning: Revieved a view of an AnnData. Making a copy.\n",
      "  view_to_actual(adata)\n"
     ]
    },
    {
     "name": "stdout",
     "output_type": "stream",
     "text": [
      "normalizing counts per cell\n",
      "    finished (0:00:00)\n",
      "normalizing counts per cell\n",
      "    finished (0:00:00)\n",
      "Embedding transcriptomes using PCA...\n",
      "Automatically set threshold at doublet score = 0.34\n",
      "Detected doublet rate = 0.6%\n",
      "Estimated detectable doublet fraction = 15.7%\n",
      "Overall doublet rate:\n",
      "\tExpected   = 2.5%\n",
      "\tEstimated  = 3.6%\n",
      "    Scrublet finished (0:00:10)\n"
     ]
    },
    {
     "name": "stderr",
     "output_type": "stream",
     "text": [
      "/home/teach2_pkuhpc/gpfs1/xuzk/Anaconda/envs/py3/lib/python3.10/site-packages/scanpy/external/pp/_scrublet.py:227: ImplicitModificationWarning: Trying to modify attribute `.obs` of view, initializing view as actual.\n",
      "  adata.obs['doublet_score'] = adata_obs.obs['doublet_score']\n"
     ]
    },
    {
     "name": "stdout",
     "output_type": "stream",
     "text": [
      "WARNING: saving figure to file figures/scrublet_score_distribution_p6t2.pdf\n",
      "normalizing counts per cell\n",
      "    finished (0:00:00)\n",
      "extracting highly variable genes\n",
      "    finished (0:00:02)\n",
      "--> added\n",
      "    'highly_variable', boolean vector (adata.var)\n",
      "    'means', float vector (adata.var)\n",
      "    'dispersions', float vector (adata.var)\n",
      "    'dispersions_norm', float vector (adata.var)\n"
     ]
    },
    {
     "name": "stderr",
     "output_type": "stream",
     "text": [
      "/home/teach2_pkuhpc/gpfs1/xuzk/Anaconda/envs/py3/lib/python3.10/site-packages/scanpy/preprocessing/_simple.py:843: UserWarning: Revieved a view of an AnnData. Making a copy.\n",
      "  view_to_actual(adata)\n"
     ]
    },
    {
     "name": "stdout",
     "output_type": "stream",
     "text": [
      "computing PCA\n",
      "    on highly variable genes\n",
      "    with n_comps=50\n",
      "    finished (0:00:03)\n",
      "computing neighbors\n",
      "    using 'X_pca' with n_pcs = 50\n",
      "    finished: added to `.uns['neighbors']`\n",
      "    `.obsp['distances']`, distances for each pair of neighbors\n",
      "    `.obsp['connectivities']`, weighted adjacency matrix (0:00:00)\n",
      "computing tSNE\n",
      "    using 'X_pca' with n_pcs = 50\n",
      "    using sklearn.manifold.TSNE\n"
     ]
    },
    {
     "name": "stderr",
     "output_type": "stream",
     "text": [
      "/home/teach2_pkuhpc/gpfs1/xuzk/Anaconda/envs/py3/lib/python3.10/site-packages/sklearn/manifold/_t_sne.py:780: FutureWarning: The default initialization in TSNE will change from 'random' to 'pca' in 1.2.\n",
      "  warnings.warn(\n"
     ]
    },
    {
     "name": "stdout",
     "output_type": "stream",
     "text": [
      "    finished: added\n",
      "    'X_tsne', tSNE coordinates (adata.obsm) (0:00:09)\n",
      "WARNING: saving figure to file figures/tsne_p6t2_doublet.pdf\n",
      "Running Scrublet\n",
      "filtered out 19178 genes that are detected in less than 3 cells\n",
      "filtered out 9 cells that have less than 3 genes expressed\n",
      "normalizing counts per cell\n",
      "    finished (0:00:00)\n",
      "extracting highly variable genes\n",
      "    finished (0:00:02)\n",
      "--> added\n",
      "    'highly_variable', boolean vector (adata.var)\n",
      "    'means', float vector (adata.var)\n",
      "    'dispersions', float vector (adata.var)\n",
      "    'dispersions_norm', float vector (adata.var)\n"
     ]
    },
    {
     "name": "stderr",
     "output_type": "stream",
     "text": [
      "/home/teach2_pkuhpc/gpfs1/xuzk/Anaconda/envs/py3/lib/python3.10/site-packages/scanpy/preprocessing/_normalization.py:155: UserWarning: Revieved a view of an AnnData. Making a copy.\n",
      "  view_to_actual(adata)\n"
     ]
    },
    {
     "name": "stdout",
     "output_type": "stream",
     "text": [
      "normalizing counts per cell\n",
      "    finished (0:00:00)\n",
      "normalizing counts per cell\n",
      "    finished (0:00:00)\n",
      "Embedding transcriptomes using PCA...\n",
      "Automatically set threshold at doublet score = 0.43\n",
      "Detected doublet rate = 0.1%\n",
      "Estimated detectable doublet fraction = 5.9%\n",
      "Overall doublet rate:\n",
      "\tExpected   = 2.5%\n",
      "\tEstimated  = 2.1%\n",
      "    Scrublet finished (0:00:24)\n"
     ]
    },
    {
     "name": "stderr",
     "output_type": "stream",
     "text": [
      "/home/teach2_pkuhpc/gpfs1/xuzk/Anaconda/envs/py3/lib/python3.10/site-packages/scanpy/external/pp/_scrublet.py:227: ImplicitModificationWarning: Trying to modify attribute `.obs` of view, initializing view as actual.\n",
      "  adata.obs['doublet_score'] = adata_obs.obs['doublet_score']\n"
     ]
    },
    {
     "name": "stdout",
     "output_type": "stream",
     "text": [
      "WARNING: saving figure to file figures/scrublet_score_distribution_p7t1.pdf\n",
      "normalizing counts per cell\n"
     ]
    },
    {
     "name": "stderr",
     "output_type": "stream",
     "text": [
      "/home/teach2_pkuhpc/gpfs1/xuzk/Anaconda/envs/py3/lib/python3.10/site-packages/scanpy/preprocessing/_normalization.py:182: UserWarning: Some cells have zero counts\n",
      "  warn(UserWarning('Some cells have zero counts'))\n"
     ]
    },
    {
     "name": "stdout",
     "output_type": "stream",
     "text": [
      "    finished (0:00:00)\n",
      "extracting highly variable genes\n",
      "    finished (0:00:05)\n",
      "--> added\n",
      "    'highly_variable', boolean vector (adata.var)\n",
      "    'means', float vector (adata.var)\n",
      "    'dispersions', float vector (adata.var)\n",
      "    'dispersions_norm', float vector (adata.var)\n"
     ]
    },
    {
     "name": "stderr",
     "output_type": "stream",
     "text": [
      "/home/teach2_pkuhpc/gpfs1/xuzk/Anaconda/envs/py3/lib/python3.10/site-packages/scanpy/preprocessing/_simple.py:843: UserWarning: Revieved a view of an AnnData. Making a copy.\n",
      "  view_to_actual(adata)\n"
     ]
    },
    {
     "name": "stdout",
     "output_type": "stream",
     "text": [
      "computing PCA\n",
      "    on highly variable genes\n",
      "    with n_comps=50\n",
      "    finished (0:00:09)\n",
      "computing neighbors\n",
      "    using 'X_pca' with n_pcs = 50\n",
      "    finished: added to `.uns['neighbors']`\n",
      "    `.obsp['distances']`, distances for each pair of neighbors\n",
      "    `.obsp['connectivities']`, weighted adjacency matrix (0:00:00)\n",
      "computing tSNE\n",
      "    using 'X_pca' with n_pcs = 50\n",
      "    using sklearn.manifold.TSNE\n"
     ]
    },
    {
     "name": "stderr",
     "output_type": "stream",
     "text": [
      "/home/teach2_pkuhpc/gpfs1/xuzk/Anaconda/envs/py3/lib/python3.10/site-packages/sklearn/manifold/_t_sne.py:780: FutureWarning: The default initialization in TSNE will change from 'random' to 'pca' in 1.2.\n",
      "  warnings.warn(\n"
     ]
    },
    {
     "name": "stdout",
     "output_type": "stream",
     "text": [
      "    finished: added\n",
      "    'X_tsne', tSNE coordinates (adata.obsm) (0:00:20)\n",
      "WARNING: saving figure to file figures/tsne_p7t1_doublet.pdf\n",
      "Running Scrublet\n",
      "filtered out 19536 genes that are detected in less than 3 cells\n",
      "filtered out 5 cells that have less than 3 genes expressed\n",
      "normalizing counts per cell\n",
      "    finished (0:00:00)\n",
      "extracting highly variable genes\n",
      "    finished (0:00:02)\n",
      "--> added\n",
      "    'highly_variable', boolean vector (adata.var)\n",
      "    'means', float vector (adata.var)\n",
      "    'dispersions', float vector (adata.var)\n",
      "    'dispersions_norm', float vector (adata.var)\n"
     ]
    },
    {
     "name": "stderr",
     "output_type": "stream",
     "text": [
      "/home/teach2_pkuhpc/gpfs1/xuzk/Anaconda/envs/py3/lib/python3.10/site-packages/scanpy/preprocessing/_normalization.py:155: UserWarning: Revieved a view of an AnnData. Making a copy.\n",
      "  view_to_actual(adata)\n"
     ]
    },
    {
     "name": "stdout",
     "output_type": "stream",
     "text": [
      "normalizing counts per cell\n",
      "    finished (0:00:00)\n",
      "normalizing counts per cell\n",
      "    finished (0:00:00)\n",
      "Embedding transcriptomes using PCA...\n",
      "Automatically set threshold at doublet score = 0.43\n",
      "Detected doublet rate = 0.1%\n",
      "Estimated detectable doublet fraction = 3.4%\n",
      "Overall doublet rate:\n",
      "\tExpected   = 2.5%\n",
      "\tEstimated  = 3.1%\n",
      "    Scrublet finished (0:00:16)\n"
     ]
    },
    {
     "name": "stderr",
     "output_type": "stream",
     "text": [
      "/home/teach2_pkuhpc/gpfs1/xuzk/Anaconda/envs/py3/lib/python3.10/site-packages/scanpy/external/pp/_scrublet.py:227: ImplicitModificationWarning: Trying to modify attribute `.obs` of view, initializing view as actual.\n",
      "  adata.obs['doublet_score'] = adata_obs.obs['doublet_score']\n"
     ]
    },
    {
     "name": "stdout",
     "output_type": "stream",
     "text": [
      "WARNING: saving figure to file figures/scrublet_score_distribution_p7t2.pdf\n",
      "normalizing counts per cell\n",
      "    finished (0:00:00)\n",
      "extracting highly variable genes\n",
      "    finished (0:00:04)\n",
      "--> added\n",
      "    'highly_variable', boolean vector (adata.var)\n",
      "    'means', float vector (adata.var)\n",
      "    'dispersions', float vector (adata.var)\n",
      "    'dispersions_norm', float vector (adata.var)\n"
     ]
    },
    {
     "name": "stderr",
     "output_type": "stream",
     "text": [
      "/home/teach2_pkuhpc/gpfs1/xuzk/Anaconda/envs/py3/lib/python3.10/site-packages/scanpy/preprocessing/_simple.py:843: UserWarning: Revieved a view of an AnnData. Making a copy.\n",
      "  view_to_actual(adata)\n"
     ]
    },
    {
     "name": "stdout",
     "output_type": "stream",
     "text": [
      "computing PCA\n",
      "    on highly variable genes\n",
      "    with n_comps=50\n",
      "    finished (0:00:08)\n",
      "computing neighbors\n",
      "    using 'X_pca' with n_pcs = 50\n",
      "    finished: added to `.uns['neighbors']`\n",
      "    `.obsp['distances']`, distances for each pair of neighbors\n",
      "    `.obsp['connectivities']`, weighted adjacency matrix (0:00:00)\n",
      "computing tSNE\n",
      "    using 'X_pca' with n_pcs = 50\n",
      "    using sklearn.manifold.TSNE\n"
     ]
    },
    {
     "name": "stderr",
     "output_type": "stream",
     "text": [
      "/home/teach2_pkuhpc/gpfs1/xuzk/Anaconda/envs/py3/lib/python3.10/site-packages/sklearn/manifold/_t_sne.py:780: FutureWarning: The default initialization in TSNE will change from 'random' to 'pca' in 1.2.\n",
      "  warnings.warn(\n"
     ]
    },
    {
     "name": "stdout",
     "output_type": "stream",
     "text": [
      "    finished: added\n",
      "    'X_tsne', tSNE coordinates (adata.obsm) (0:00:19)\n",
      "WARNING: saving figure to file figures/tsne_p7t2_doublet.pdf\n"
     ]
    }
   ],
   "source": [
    "%matplotlib inline\n",
    "import scrublet\n",
    "adatas_new=[]\n",
    "names = ['p3t1','p3t2','p3t3','p4t1','p4t2','p4t3','p5t1','p5t2','p6t1','p6t2','p7t1','p7t2']\n",
    "for name in names:\n",
    "    # extract a single sample from the raw data\n",
    "    adata = adatas[adatas.obs.Library == name, :] \n",
    "    # use scrublet to predict doublets in data, the expected_doublet_rate set as the threshold in paper\n",
    "    sc.external.pp.scrublet(adata, expected_doublet_rate=0.025) \n",
    "    #\n",
    "    # reassembele the sample adata annotated with doublets\n",
    "    adatas_new.append(adata)\n",
    "    # doublet validation\n",
    "    sc.external.pl.scrublet_score_distribution(adata,save='_'+name)\n",
    "    # create the dimension-reduction plot and show the detected doublets\n",
    "    sc.pp.normalize_total(adata, target_sum=1e4)\n",
    "    sc.pp.log1p(adata)\n",
    "    sc.pp.highly_variable_genes(adata, min_mean=0.05, max_mean=8, min_disp=0.5) \n",
    "    adata = adata[:, adata.var.highly_variable]\n",
    "    #sc.pp.regress_out(adata, ['total_counts', 'pct_counts_mt'])\n",
    "    sc.pp.scale(adata, max_value=10)\n",
    "    sc.tl.pca(adata, svd_solver='arpack')\n",
    "    sc.pp.neighbors(adata)\n",
    "    sc.tl.tsne(adata)\n",
    "    predicted_list=list(adata.obs['predicted_doublet'])   \n",
    "    predicted_list_new = []\n",
    "    for i in predicted_list:\n",
    "        predicted_list_new.append(str(i))\n",
    "    adata.obs['predicted_doublet_n']=predicted_list_new\n",
    "    sc.pl.tsne(adata, color = ['predicted_doublet_n'],save='_'+name+'_doublet',title='predicted_doublet_'+name)"
   ]
  },
  {
   "cell_type": "code",
   "execution_count": 8,
   "id": "2e4921c6",
   "metadata": {},
   "outputs": [
    {
     "name": "stderr",
     "output_type": "stream",
     "text": [
      "/home/teach2_pkuhpc/gpfs1/xuzk/Anaconda/envs/py3/lib/python3.10/site-packages/anndata/_core/anndata.py:1828: UserWarning: Observation names are not unique. To make them unique, call `.obs_names_make_unique`.\n",
      "  utils.warn_names_duplicates(\"obs\")\n"
     ]
    }
   ],
   "source": [
    "adatas_new = ad.concat(adatas_new, merge = \"same\")"
   ]
  },
  {
   "cell_type": "code",
   "execution_count": 24,
   "id": "62bbbe0e",
   "metadata": {},
   "outputs": [],
   "source": [
    "adatas_new.obs.predicted_doublet = adatas_new.obs.predicted_doublet.astype('string')"
   ]
  },
  {
   "cell_type": "code",
   "execution_count": 36,
   "id": "a4333445",
   "metadata": {},
   "outputs": [],
   "source": [
    "adatas_new = adatas_new[adatas_new.obs.predicted_doublet == 'False', :] "
   ]
  },
  {
   "cell_type": "code",
   "execution_count": 43,
   "id": "d93e0e47",
   "metadata": {},
   "outputs": [],
   "source": [
    "del(adatas_new.obs['predicted_doublet'])"
   ]
  },
  {
   "cell_type": "code",
   "execution_count": 44,
   "id": "cd272c5f",
   "metadata": {},
   "outputs": [
    {
     "data": {
      "text/html": [
       "<div>\n",
       "<style scoped>\n",
       "    .dataframe tbody tr th:only-of-type {\n",
       "        vertical-align: middle;\n",
       "    }\n",
       "\n",
       "    .dataframe tbody tr th {\n",
       "        vertical-align: top;\n",
       "    }\n",
       "\n",
       "    .dataframe thead th {\n",
       "        text-align: right;\n",
       "    }\n",
       "</style>\n",
       "<table border=\"1\" class=\"dataframe\">\n",
       "  <thead>\n",
       "    <tr style=\"text-align: right;\">\n",
       "      <th></th>\n",
       "      <th>Patient</th>\n",
       "      <th>Library</th>\n",
       "      <th>Most likely LM22 cell type</th>\n",
       "      <th>Major cell type</th>\n",
       "      <th>Minor subset</th>\n",
       "      <th>n_genes_by_counts</th>\n",
       "      <th>total_counts</th>\n",
       "      <th>total_counts_mt</th>\n",
       "      <th>pct_counts_mt</th>\n",
       "      <th>doublet_score</th>\n",
       "    </tr>\n",
       "  </thead>\n",
       "  <tbody>\n",
       "    <tr>\n",
       "      <th>bcHNMG</th>\n",
       "      <td>p3</td>\n",
       "      <td>p3t1</td>\n",
       "      <td>Macrophages M0</td>\n",
       "      <td>tMoMacDC</td>\n",
       "      <td>tMac5</td>\n",
       "      <td>5035</td>\n",
       "      <td>23720.0</td>\n",
       "      <td>1470.0</td>\n",
       "      <td>6.197302</td>\n",
       "      <td>0.006243</td>\n",
       "    </tr>\n",
       "    <tr>\n",
       "      <th>bcGUOS</th>\n",
       "      <td>p3</td>\n",
       "      <td>p3t1</td>\n",
       "      <td>B cells memory</td>\n",
       "      <td>tB cells</td>\n",
       "      <td>tB</td>\n",
       "      <td>1033</td>\n",
       "      <td>6932.0</td>\n",
       "      <td>304.0</td>\n",
       "      <td>4.385458</td>\n",
       "      <td>0.008569</td>\n",
       "    </tr>\n",
       "    <tr>\n",
       "      <th>bcBAMM</th>\n",
       "      <td>p3</td>\n",
       "      <td>p3t1</td>\n",
       "      <td>Monocytes</td>\n",
       "      <td>Patient3-specific</td>\n",
       "      <td>Pt3A_TFF1/MUC5A</td>\n",
       "      <td>2233</td>\n",
       "      <td>5319.0</td>\n",
       "      <td>465.0</td>\n",
       "      <td>8.742245</td>\n",
       "      <td>0.002703</td>\n",
       "    </tr>\n",
       "    <tr>\n",
       "      <th>bcATNB</th>\n",
       "      <td>p3</td>\n",
       "      <td>p3t1</td>\n",
       "      <td>B cells memory</td>\n",
       "      <td>tB cells</td>\n",
       "      <td>tB</td>\n",
       "      <td>1504</td>\n",
       "      <td>4007.0</td>\n",
       "      <td>452.0</td>\n",
       "      <td>11.280259</td>\n",
       "      <td>0.019182</td>\n",
       "    </tr>\n",
       "    <tr>\n",
       "      <th>bcAEDB</th>\n",
       "      <td>p3</td>\n",
       "      <td>p3t1</td>\n",
       "      <td>Monocytes</td>\n",
       "      <td>Patient3-specific</td>\n",
       "      <td>Pt3E_CLDN4</td>\n",
       "      <td>1510</td>\n",
       "      <td>3499.0</td>\n",
       "      <td>592.0</td>\n",
       "      <td>16.919119</td>\n",
       "      <td>0.011535</td>\n",
       "    </tr>\n",
       "    <tr>\n",
       "      <th>...</th>\n",
       "      <td>...</td>\n",
       "      <td>...</td>\n",
       "      <td>...</td>\n",
       "      <td>...</td>\n",
       "      <td>...</td>\n",
       "      <td>...</td>\n",
       "      <td>...</td>\n",
       "      <td>...</td>\n",
       "      <td>...</td>\n",
       "      <td>...</td>\n",
       "    </tr>\n",
       "    <tr>\n",
       "      <th>bcFPAE</th>\n",
       "      <td>p7</td>\n",
       "      <td>p7t2</td>\n",
       "      <td>null</td>\n",
       "      <td>null</td>\n",
       "      <td>null</td>\n",
       "      <td>60</td>\n",
       "      <td>66.0</td>\n",
       "      <td>5.0</td>\n",
       "      <td>7.575758</td>\n",
       "      <td>0.035714</td>\n",
       "    </tr>\n",
       "    <tr>\n",
       "      <th>bcBMXQ</th>\n",
       "      <td>p7</td>\n",
       "      <td>p7t2</td>\n",
       "      <td>Macrophages M0</td>\n",
       "      <td>tMoMacDC</td>\n",
       "      <td>tMac2</td>\n",
       "      <td>34</td>\n",
       "      <td>37.0</td>\n",
       "      <td>6.0</td>\n",
       "      <td>16.216215</td>\n",
       "      <td>0.033268</td>\n",
       "    </tr>\n",
       "    <tr>\n",
       "      <th>bcGQJH</th>\n",
       "      <td>p7</td>\n",
       "      <td>p7t2</td>\n",
       "      <td>null</td>\n",
       "      <td>null</td>\n",
       "      <td>null</td>\n",
       "      <td>40</td>\n",
       "      <td>54.0</td>\n",
       "      <td>1.0</td>\n",
       "      <td>1.851852</td>\n",
       "      <td>0.014171</td>\n",
       "    </tr>\n",
       "    <tr>\n",
       "      <th>bcGEKE</th>\n",
       "      <td>p7</td>\n",
       "      <td>p7t2</td>\n",
       "      <td>null</td>\n",
       "      <td>null</td>\n",
       "      <td>null</td>\n",
       "      <td>41</td>\n",
       "      <td>44.0</td>\n",
       "      <td>0.0</td>\n",
       "      <td>0.000000</td>\n",
       "      <td>0.020009</td>\n",
       "    </tr>\n",
       "    <tr>\n",
       "      <th>bcFHUY</th>\n",
       "      <td>p7</td>\n",
       "      <td>p7t2</td>\n",
       "      <td>null</td>\n",
       "      <td>null</td>\n",
       "      <td>null</td>\n",
       "      <td>53</td>\n",
       "      <td>64.0</td>\n",
       "      <td>6.0</td>\n",
       "      <td>9.375000</td>\n",
       "      <td>0.011630</td>\n",
       "    </tr>\n",
       "  </tbody>\n",
       "</table>\n",
       "<p>84982 rows × 10 columns</p>\n",
       "</div>"
      ],
      "text/plain": [
       "       Patient Library Most likely LM22 cell type    Major cell type  \\\n",
       "bcHNMG      p3    p3t1             Macrophages M0           tMoMacDC   \n",
       "bcGUOS      p3    p3t1             B cells memory           tB cells   \n",
       "bcBAMM      p3    p3t1                  Monocytes  Patient3-specific   \n",
       "bcATNB      p3    p3t1             B cells memory           tB cells   \n",
       "bcAEDB      p3    p3t1                  Monocytes  Patient3-specific   \n",
       "...        ...     ...                        ...                ...   \n",
       "bcFPAE      p7    p7t2                       null               null   \n",
       "bcBMXQ      p7    p7t2             Macrophages M0           tMoMacDC   \n",
       "bcGQJH      p7    p7t2                       null               null   \n",
       "bcGEKE      p7    p7t2                       null               null   \n",
       "bcFHUY      p7    p7t2                       null               null   \n",
       "\n",
       "           Minor subset  n_genes_by_counts  total_counts  total_counts_mt  \\\n",
       "bcHNMG            tMac5               5035       23720.0           1470.0   \n",
       "bcGUOS               tB               1033        6932.0            304.0   \n",
       "bcBAMM  Pt3A_TFF1/MUC5A               2233        5319.0            465.0   \n",
       "bcATNB               tB               1504        4007.0            452.0   \n",
       "bcAEDB       Pt3E_CLDN4               1510        3499.0            592.0   \n",
       "...                 ...                ...           ...              ...   \n",
       "bcFPAE             null                 60          66.0              5.0   \n",
       "bcBMXQ            tMac2                 34          37.0              6.0   \n",
       "bcGQJH             null                 40          54.0              1.0   \n",
       "bcGEKE             null                 41          44.0              0.0   \n",
       "bcFHUY             null                 53          64.0              6.0   \n",
       "\n",
       "        pct_counts_mt  doublet_score  \n",
       "bcHNMG       6.197302       0.006243  \n",
       "bcGUOS       4.385458       0.008569  \n",
       "bcBAMM       8.742245       0.002703  \n",
       "bcATNB      11.280259       0.019182  \n",
       "bcAEDB      16.919119       0.011535  \n",
       "...               ...            ...  \n",
       "bcFPAE       7.575758       0.035714  \n",
       "bcBMXQ      16.216215       0.033268  \n",
       "bcGQJH       1.851852       0.014171  \n",
       "bcGEKE       0.000000       0.020009  \n",
       "bcFHUY       9.375000       0.011630  \n",
       "\n",
       "[84982 rows x 10 columns]"
      ]
     },
     "execution_count": 44,
     "metadata": {},
     "output_type": "execute_result"
    }
   ],
   "source": [
    "adatas_new.obs"
   ]
  },
  {
   "cell_type": "code",
   "execution_count": 45,
   "id": "e016a5f3",
   "metadata": {},
   "outputs": [],
   "source": [
    "adatas_new.write(qc_file)"
   ]
  }
 ],
 "metadata": {
  "kernelspec": {
   "display_name": "py3_n",
   "language": "python",
   "name": "py3"
  },
  "language_info": {
   "codemirror_mode": {
    "name": "ipython",
    "version": 3
   },
   "file_extension": ".py",
   "mimetype": "text/x-python",
   "name": "python",
   "nbconvert_exporter": "python",
   "pygments_lexer": "ipython3",
   "version": "3.10.4"
  }
 },
 "nbformat": 4,
 "nbformat_minor": 5
}
